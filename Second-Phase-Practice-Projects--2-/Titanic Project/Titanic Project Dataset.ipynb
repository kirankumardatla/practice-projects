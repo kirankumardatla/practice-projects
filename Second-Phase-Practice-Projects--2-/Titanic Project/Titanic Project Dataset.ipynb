{
 "cells": [
  {
   "cell_type": "markdown",
   "id": "98f30094-93e2-4b31-b84d-140506a8b819",
   "metadata": {},
   "source": [
    "## Problem statement"
   ]
  },
  {
   "cell_type": "markdown",
   "id": "0152fd46-ca37-45a1-80b3-ac2dcec2b3d9",
   "metadata": {
    "tags": []
   },
   "source": [
    "The Titanic Problem is based on the sinking of the ‘Unsinkable’ ship Titanic in early 1912. It gives you information about multiple people like their ages, sexes, sibling counts, embarkment points, and whether or not they survived the disaster. \n",
    "Based on these features, you have to predict if an arbitrary passenger on Titanic would survive the sinking or not. \n"
   ]
  },
  {
   "cell_type": "markdown",
   "id": "5be0069e-7eec-4754-a34a-4c1a9dea8805",
   "metadata": {},
   "source": [
    "### Importing libraries"
   ]
  },
  {
   "cell_type": "code",
   "execution_count": 1,
   "id": "49f3f64e-16f5-45cb-8cf0-60d305e67363",
   "metadata": {
    "tags": []
   },
   "outputs": [],
   "source": [
    "import pandas as pd\n",
    "import numpy as np\n",
    "import matplotlib.pyplot as plt\n",
    "%matplotlib inline\n",
    "import seaborn as sns\n",
    "\n",
    "from sklearn.model_selection import train_test_split\n",
    "import warnings\n",
    "warnings.filterwarnings('ignore')"
   ]
  },
  {
   "cell_type": "code",
   "execution_count": 2,
   "id": "4d28f638-4eaf-4464-9457-3f628c5ecbd3",
   "metadata": {
    "tags": []
   },
   "outputs": [
    {
     "data": {
      "text/html": [
       "<div>\n",
       "<style scoped>\n",
       "    .dataframe tbody tr th:only-of-type {\n",
       "        vertical-align: middle;\n",
       "    }\n",
       "\n",
       "    .dataframe tbody tr th {\n",
       "        vertical-align: top;\n",
       "    }\n",
       "\n",
       "    .dataframe thead th {\n",
       "        text-align: right;\n",
       "    }\n",
       "</style>\n",
       "<table border=\"1\" class=\"dataframe\">\n",
       "  <thead>\n",
       "    <tr style=\"text-align: right;\">\n",
       "      <th></th>\n",
       "      <th>PassengerId</th>\n",
       "      <th>Survived</th>\n",
       "      <th>Pclass</th>\n",
       "      <th>Name</th>\n",
       "      <th>Sex</th>\n",
       "      <th>Age</th>\n",
       "      <th>SibSp</th>\n",
       "      <th>Parch</th>\n",
       "      <th>Ticket</th>\n",
       "      <th>Fare</th>\n",
       "      <th>Cabin</th>\n",
       "      <th>Embarked</th>\n",
       "    </tr>\n",
       "  </thead>\n",
       "  <tbody>\n",
       "    <tr>\n",
       "      <th>0</th>\n",
       "      <td>1</td>\n",
       "      <td>0</td>\n",
       "      <td>3</td>\n",
       "      <td>Braund, Mr. Owen Harris</td>\n",
       "      <td>male</td>\n",
       "      <td>22.0</td>\n",
       "      <td>1</td>\n",
       "      <td>0</td>\n",
       "      <td>A/5 21171</td>\n",
       "      <td>7.2500</td>\n",
       "      <td>NaN</td>\n",
       "      <td>S</td>\n",
       "    </tr>\n",
       "    <tr>\n",
       "      <th>1</th>\n",
       "      <td>2</td>\n",
       "      <td>1</td>\n",
       "      <td>1</td>\n",
       "      <td>Cumings, Mrs. John Bradley (Florence Briggs Th...</td>\n",
       "      <td>female</td>\n",
       "      <td>38.0</td>\n",
       "      <td>1</td>\n",
       "      <td>0</td>\n",
       "      <td>PC 17599</td>\n",
       "      <td>71.2833</td>\n",
       "      <td>C85</td>\n",
       "      <td>C</td>\n",
       "    </tr>\n",
       "    <tr>\n",
       "      <th>2</th>\n",
       "      <td>3</td>\n",
       "      <td>1</td>\n",
       "      <td>3</td>\n",
       "      <td>Heikkinen, Miss. Laina</td>\n",
       "      <td>female</td>\n",
       "      <td>26.0</td>\n",
       "      <td>0</td>\n",
       "      <td>0</td>\n",
       "      <td>STON/O2. 3101282</td>\n",
       "      <td>7.9250</td>\n",
       "      <td>NaN</td>\n",
       "      <td>S</td>\n",
       "    </tr>\n",
       "    <tr>\n",
       "      <th>3</th>\n",
       "      <td>4</td>\n",
       "      <td>1</td>\n",
       "      <td>1</td>\n",
       "      <td>Futrelle, Mrs. Jacques Heath (Lily May Peel)</td>\n",
       "      <td>female</td>\n",
       "      <td>35.0</td>\n",
       "      <td>1</td>\n",
       "      <td>0</td>\n",
       "      <td>113803</td>\n",
       "      <td>53.1000</td>\n",
       "      <td>C123</td>\n",
       "      <td>S</td>\n",
       "    </tr>\n",
       "    <tr>\n",
       "      <th>4</th>\n",
       "      <td>5</td>\n",
       "      <td>0</td>\n",
       "      <td>3</td>\n",
       "      <td>Allen, Mr. William Henry</td>\n",
       "      <td>male</td>\n",
       "      <td>35.0</td>\n",
       "      <td>0</td>\n",
       "      <td>0</td>\n",
       "      <td>373450</td>\n",
       "      <td>8.0500</td>\n",
       "      <td>NaN</td>\n",
       "      <td>S</td>\n",
       "    </tr>\n",
       "    <tr>\n",
       "      <th>...</th>\n",
       "      <td>...</td>\n",
       "      <td>...</td>\n",
       "      <td>...</td>\n",
       "      <td>...</td>\n",
       "      <td>...</td>\n",
       "      <td>...</td>\n",
       "      <td>...</td>\n",
       "      <td>...</td>\n",
       "      <td>...</td>\n",
       "      <td>...</td>\n",
       "      <td>...</td>\n",
       "      <td>...</td>\n",
       "    </tr>\n",
       "    <tr>\n",
       "      <th>886</th>\n",
       "      <td>887</td>\n",
       "      <td>0</td>\n",
       "      <td>2</td>\n",
       "      <td>Montvila, Rev. Juozas</td>\n",
       "      <td>male</td>\n",
       "      <td>27.0</td>\n",
       "      <td>0</td>\n",
       "      <td>0</td>\n",
       "      <td>211536</td>\n",
       "      <td>13.0000</td>\n",
       "      <td>NaN</td>\n",
       "      <td>S</td>\n",
       "    </tr>\n",
       "    <tr>\n",
       "      <th>887</th>\n",
       "      <td>888</td>\n",
       "      <td>1</td>\n",
       "      <td>1</td>\n",
       "      <td>Graham, Miss. Margaret Edith</td>\n",
       "      <td>female</td>\n",
       "      <td>19.0</td>\n",
       "      <td>0</td>\n",
       "      <td>0</td>\n",
       "      <td>112053</td>\n",
       "      <td>30.0000</td>\n",
       "      <td>B42</td>\n",
       "      <td>S</td>\n",
       "    </tr>\n",
       "    <tr>\n",
       "      <th>888</th>\n",
       "      <td>889</td>\n",
       "      <td>0</td>\n",
       "      <td>3</td>\n",
       "      <td>Johnston, Miss. Catherine Helen \"Carrie\"</td>\n",
       "      <td>female</td>\n",
       "      <td>NaN</td>\n",
       "      <td>1</td>\n",
       "      <td>2</td>\n",
       "      <td>W./C. 6607</td>\n",
       "      <td>23.4500</td>\n",
       "      <td>NaN</td>\n",
       "      <td>S</td>\n",
       "    </tr>\n",
       "    <tr>\n",
       "      <th>889</th>\n",
       "      <td>890</td>\n",
       "      <td>1</td>\n",
       "      <td>1</td>\n",
       "      <td>Behr, Mr. Karl Howell</td>\n",
       "      <td>male</td>\n",
       "      <td>26.0</td>\n",
       "      <td>0</td>\n",
       "      <td>0</td>\n",
       "      <td>111369</td>\n",
       "      <td>30.0000</td>\n",
       "      <td>C148</td>\n",
       "      <td>C</td>\n",
       "    </tr>\n",
       "    <tr>\n",
       "      <th>890</th>\n",
       "      <td>891</td>\n",
       "      <td>0</td>\n",
       "      <td>3</td>\n",
       "      <td>Dooley, Mr. Patrick</td>\n",
       "      <td>male</td>\n",
       "      <td>32.0</td>\n",
       "      <td>0</td>\n",
       "      <td>0</td>\n",
       "      <td>370376</td>\n",
       "      <td>7.7500</td>\n",
       "      <td>NaN</td>\n",
       "      <td>Q</td>\n",
       "    </tr>\n",
       "  </tbody>\n",
       "</table>\n",
       "<p>891 rows × 12 columns</p>\n",
       "</div>"
      ],
      "text/plain": [
       "     PassengerId  Survived  Pclass  \\\n",
       "0              1         0       3   \n",
       "1              2         1       1   \n",
       "2              3         1       3   \n",
       "3              4         1       1   \n",
       "4              5         0       3   \n",
       "..           ...       ...     ...   \n",
       "886          887         0       2   \n",
       "887          888         1       1   \n",
       "888          889         0       3   \n",
       "889          890         1       1   \n",
       "890          891         0       3   \n",
       "\n",
       "                                                  Name     Sex   Age  SibSp  \\\n",
       "0                              Braund, Mr. Owen Harris    male  22.0      1   \n",
       "1    Cumings, Mrs. John Bradley (Florence Briggs Th...  female  38.0      1   \n",
       "2                               Heikkinen, Miss. Laina  female  26.0      0   \n",
       "3         Futrelle, Mrs. Jacques Heath (Lily May Peel)  female  35.0      1   \n",
       "4                             Allen, Mr. William Henry    male  35.0      0   \n",
       "..                                                 ...     ...   ...    ...   \n",
       "886                              Montvila, Rev. Juozas    male  27.0      0   \n",
       "887                       Graham, Miss. Margaret Edith  female  19.0      0   \n",
       "888           Johnston, Miss. Catherine Helen \"Carrie\"  female   NaN      1   \n",
       "889                              Behr, Mr. Karl Howell    male  26.0      0   \n",
       "890                                Dooley, Mr. Patrick    male  32.0      0   \n",
       "\n",
       "     Parch            Ticket     Fare Cabin Embarked  \n",
       "0        0         A/5 21171   7.2500   NaN        S  \n",
       "1        0          PC 17599  71.2833   C85        C  \n",
       "2        0  STON/O2. 3101282   7.9250   NaN        S  \n",
       "3        0            113803  53.1000  C123        S  \n",
       "4        0            373450   8.0500   NaN        S  \n",
       "..     ...               ...      ...   ...      ...  \n",
       "886      0            211536  13.0000   NaN        S  \n",
       "887      0            112053  30.0000   B42        S  \n",
       "888      2        W./C. 6607  23.4500   NaN        S  \n",
       "889      0            111369  30.0000  C148        C  \n",
       "890      0            370376   7.7500   NaN        Q  \n",
       "\n",
       "[891 rows x 12 columns]"
      ]
     },
     "execution_count": 2,
     "metadata": {},
     "output_type": "execute_result"
    }
   ],
   "source": [
    "df = pd.read_csv(r\"C:\\Users\\kiran\\Desktop\\datatrained\\Internship\\Project\\Second-Phase-Practice-Projects--2-\\Titanic Project\\Titanic Project Dataset.csv\")\n",
    "df"
   ]
  },
  {
   "cell_type": "markdown",
   "id": "23d59b49-5e80-4efd-be73-b9b340235bec",
   "metadata": {},
   "source": [
    "#### Columns"
   ]
  },
  {
   "cell_type": "code",
   "execution_count": 3,
   "id": "f268a111-813a-431e-a0a9-a9cd6e1defe4",
   "metadata": {
    "tags": []
   },
   "outputs": [
    {
     "data": {
      "text/plain": [
       "Index(['PassengerId', 'Survived', 'Pclass', 'Name', 'Sex', 'Age', 'SibSp',\n",
       "       'Parch', 'Ticket', 'Fare', 'Cabin', 'Embarked'],\n",
       "      dtype='object')"
      ]
     },
     "execution_count": 3,
     "metadata": {},
     "output_type": "execute_result"
    }
   ],
   "source": [
    "df.columns"
   ]
  },
  {
   "cell_type": "markdown",
   "id": "0f25f1f6-5e99-4473-87b1-059b2059dfe9",
   "metadata": {},
   "source": [
    "- PassengerId - sl.no of the dataset, Not required\n",
    "- Survived - Survival (0 = No; 1 = Yes)\n",
    "- Pclass - Passenger Class (1 = 1st; 2 = 2nd; 3 = 3rd)\n",
    "- Name - Name of passenger\n",
    "- Sex - male or female\n",
    "- Age - Passenger Age\n",
    "- sibsp - Number of Siblings/Spouses Aboard\n",
    "- parch - Number of Parents/Children Aboard\n",
    "- Ticket - Ticket Number\n",
    "- Fare - Passenger Fare\n",
    "- Cabin - Cabin\n",
    "- Embarked - Port of Embarkation (C = Cherbourg; Q = Queenstown; S = Southampton)\n"
   ]
  },
  {
   "cell_type": "code",
   "execution_count": 4,
   "id": "bd232d56-d09a-4dff-a76a-37e0e866e470",
   "metadata": {
    "tags": []
   },
   "outputs": [],
   "source": [
    "# droping unwanted column\n",
    "\n",
    "df.drop(columns='PassengerId',inplace=True)\n",
    "\n",
    "# droping duplicates if any\n",
    "df.drop_duplicates(inplace=True)\n"
   ]
  },
  {
   "cell_type": "code",
   "execution_count": 5,
   "id": "a6ff0817-8bb3-4532-8bb8-1c9d814436d8",
   "metadata": {
    "tags": []
   },
   "outputs": [
    {
     "data": {
      "text/html": [
       "<div>\n",
       "<style scoped>\n",
       "    .dataframe tbody tr th:only-of-type {\n",
       "        vertical-align: middle;\n",
       "    }\n",
       "\n",
       "    .dataframe tbody tr th {\n",
       "        vertical-align: top;\n",
       "    }\n",
       "\n",
       "    .dataframe thead th {\n",
       "        text-align: right;\n",
       "    }\n",
       "</style>\n",
       "<table border=\"1\" class=\"dataframe\">\n",
       "  <thead>\n",
       "    <tr style=\"text-align: right;\">\n",
       "      <th></th>\n",
       "      <th>Survived</th>\n",
       "      <th>Pclass</th>\n",
       "      <th>Name</th>\n",
       "      <th>Sex</th>\n",
       "      <th>Age</th>\n",
       "      <th>SibSp</th>\n",
       "      <th>Parch</th>\n",
       "      <th>Ticket</th>\n",
       "      <th>Fare</th>\n",
       "      <th>Cabin</th>\n",
       "      <th>Embarked</th>\n",
       "    </tr>\n",
       "  </thead>\n",
       "  <tbody>\n",
       "    <tr>\n",
       "      <th>0</th>\n",
       "      <td>0</td>\n",
       "      <td>3</td>\n",
       "      <td>Braund, Mr. Owen Harris</td>\n",
       "      <td>male</td>\n",
       "      <td>22.0</td>\n",
       "      <td>1</td>\n",
       "      <td>0</td>\n",
       "      <td>A/5 21171</td>\n",
       "      <td>7.2500</td>\n",
       "      <td>NaN</td>\n",
       "      <td>S</td>\n",
       "    </tr>\n",
       "    <tr>\n",
       "      <th>1</th>\n",
       "      <td>1</td>\n",
       "      <td>1</td>\n",
       "      <td>Cumings, Mrs. John Bradley (Florence Briggs Th...</td>\n",
       "      <td>female</td>\n",
       "      <td>38.0</td>\n",
       "      <td>1</td>\n",
       "      <td>0</td>\n",
       "      <td>PC 17599</td>\n",
       "      <td>71.2833</td>\n",
       "      <td>C85</td>\n",
       "      <td>C</td>\n",
       "    </tr>\n",
       "    <tr>\n",
       "      <th>2</th>\n",
       "      <td>1</td>\n",
       "      <td>3</td>\n",
       "      <td>Heikkinen, Miss. Laina</td>\n",
       "      <td>female</td>\n",
       "      <td>26.0</td>\n",
       "      <td>0</td>\n",
       "      <td>0</td>\n",
       "      <td>STON/O2. 3101282</td>\n",
       "      <td>7.9250</td>\n",
       "      <td>NaN</td>\n",
       "      <td>S</td>\n",
       "    </tr>\n",
       "    <tr>\n",
       "      <th>3</th>\n",
       "      <td>1</td>\n",
       "      <td>1</td>\n",
       "      <td>Futrelle, Mrs. Jacques Heath (Lily May Peel)</td>\n",
       "      <td>female</td>\n",
       "      <td>35.0</td>\n",
       "      <td>1</td>\n",
       "      <td>0</td>\n",
       "      <td>113803</td>\n",
       "      <td>53.1000</td>\n",
       "      <td>C123</td>\n",
       "      <td>S</td>\n",
       "    </tr>\n",
       "    <tr>\n",
       "      <th>4</th>\n",
       "      <td>0</td>\n",
       "      <td>3</td>\n",
       "      <td>Allen, Mr. William Henry</td>\n",
       "      <td>male</td>\n",
       "      <td>35.0</td>\n",
       "      <td>0</td>\n",
       "      <td>0</td>\n",
       "      <td>373450</td>\n",
       "      <td>8.0500</td>\n",
       "      <td>NaN</td>\n",
       "      <td>S</td>\n",
       "    </tr>\n",
       "    <tr>\n",
       "      <th>...</th>\n",
       "      <td>...</td>\n",
       "      <td>...</td>\n",
       "      <td>...</td>\n",
       "      <td>...</td>\n",
       "      <td>...</td>\n",
       "      <td>...</td>\n",
       "      <td>...</td>\n",
       "      <td>...</td>\n",
       "      <td>...</td>\n",
       "      <td>...</td>\n",
       "      <td>...</td>\n",
       "    </tr>\n",
       "    <tr>\n",
       "      <th>886</th>\n",
       "      <td>0</td>\n",
       "      <td>2</td>\n",
       "      <td>Montvila, Rev. Juozas</td>\n",
       "      <td>male</td>\n",
       "      <td>27.0</td>\n",
       "      <td>0</td>\n",
       "      <td>0</td>\n",
       "      <td>211536</td>\n",
       "      <td>13.0000</td>\n",
       "      <td>NaN</td>\n",
       "      <td>S</td>\n",
       "    </tr>\n",
       "    <tr>\n",
       "      <th>887</th>\n",
       "      <td>1</td>\n",
       "      <td>1</td>\n",
       "      <td>Graham, Miss. Margaret Edith</td>\n",
       "      <td>female</td>\n",
       "      <td>19.0</td>\n",
       "      <td>0</td>\n",
       "      <td>0</td>\n",
       "      <td>112053</td>\n",
       "      <td>30.0000</td>\n",
       "      <td>B42</td>\n",
       "      <td>S</td>\n",
       "    </tr>\n",
       "    <tr>\n",
       "      <th>888</th>\n",
       "      <td>0</td>\n",
       "      <td>3</td>\n",
       "      <td>Johnston, Miss. Catherine Helen \"Carrie\"</td>\n",
       "      <td>female</td>\n",
       "      <td>NaN</td>\n",
       "      <td>1</td>\n",
       "      <td>2</td>\n",
       "      <td>W./C. 6607</td>\n",
       "      <td>23.4500</td>\n",
       "      <td>NaN</td>\n",
       "      <td>S</td>\n",
       "    </tr>\n",
       "    <tr>\n",
       "      <th>889</th>\n",
       "      <td>1</td>\n",
       "      <td>1</td>\n",
       "      <td>Behr, Mr. Karl Howell</td>\n",
       "      <td>male</td>\n",
       "      <td>26.0</td>\n",
       "      <td>0</td>\n",
       "      <td>0</td>\n",
       "      <td>111369</td>\n",
       "      <td>30.0000</td>\n",
       "      <td>C148</td>\n",
       "      <td>C</td>\n",
       "    </tr>\n",
       "    <tr>\n",
       "      <th>890</th>\n",
       "      <td>0</td>\n",
       "      <td>3</td>\n",
       "      <td>Dooley, Mr. Patrick</td>\n",
       "      <td>male</td>\n",
       "      <td>32.0</td>\n",
       "      <td>0</td>\n",
       "      <td>0</td>\n",
       "      <td>370376</td>\n",
       "      <td>7.7500</td>\n",
       "      <td>NaN</td>\n",
       "      <td>Q</td>\n",
       "    </tr>\n",
       "  </tbody>\n",
       "</table>\n",
       "<p>891 rows × 11 columns</p>\n",
       "</div>"
      ],
      "text/plain": [
       "     Survived  Pclass                                               Name  \\\n",
       "0           0       3                            Braund, Mr. Owen Harris   \n",
       "1           1       1  Cumings, Mrs. John Bradley (Florence Briggs Th...   \n",
       "2           1       3                             Heikkinen, Miss. Laina   \n",
       "3           1       1       Futrelle, Mrs. Jacques Heath (Lily May Peel)   \n",
       "4           0       3                           Allen, Mr. William Henry   \n",
       "..        ...     ...                                                ...   \n",
       "886         0       2                              Montvila, Rev. Juozas   \n",
       "887         1       1                       Graham, Miss. Margaret Edith   \n",
       "888         0       3           Johnston, Miss. Catherine Helen \"Carrie\"   \n",
       "889         1       1                              Behr, Mr. Karl Howell   \n",
       "890         0       3                                Dooley, Mr. Patrick   \n",
       "\n",
       "        Sex   Age  SibSp  Parch            Ticket     Fare Cabin Embarked  \n",
       "0      male  22.0      1      0         A/5 21171   7.2500   NaN        S  \n",
       "1    female  38.0      1      0          PC 17599  71.2833   C85        C  \n",
       "2    female  26.0      0      0  STON/O2. 3101282   7.9250   NaN        S  \n",
       "3    female  35.0      1      0            113803  53.1000  C123        S  \n",
       "4      male  35.0      0      0            373450   8.0500   NaN        S  \n",
       "..      ...   ...    ...    ...               ...      ...   ...      ...  \n",
       "886    male  27.0      0      0            211536  13.0000   NaN        S  \n",
       "887  female  19.0      0      0            112053  30.0000   B42        S  \n",
       "888  female   NaN      1      2        W./C. 6607  23.4500   NaN        S  \n",
       "889    male  26.0      0      0            111369  30.0000  C148        C  \n",
       "890    male  32.0      0      0            370376   7.7500   NaN        Q  \n",
       "\n",
       "[891 rows x 11 columns]"
      ]
     },
     "execution_count": 5,
     "metadata": {},
     "output_type": "execute_result"
    }
   ],
   "source": [
    "df"
   ]
  },
  {
   "cell_type": "markdown",
   "id": "3c74b6cc-db60-42fb-8d22-92b69ee413c3",
   "metadata": {},
   "source": [
    "### Analysing Basic Metrics"
   ]
  },
  {
   "cell_type": "code",
   "execution_count": 6,
   "id": "b7b96ef8-08a2-4922-a0a4-3750da2d7bc0",
   "metadata": {
    "tags": []
   },
   "outputs": [
    {
     "data": {
      "text/plain": [
       "(891, 11)"
      ]
     },
     "execution_count": 6,
     "metadata": {},
     "output_type": "execute_result"
    }
   ],
   "source": [
    "# we can observe that there are no duplicates\n",
    "df.shape"
   ]
  },
  {
   "cell_type": "code",
   "execution_count": 7,
   "id": "ed159a3b-3c21-4acb-b36b-c216e49d7b4c",
   "metadata": {
    "tags": []
   },
   "outputs": [
    {
     "data": {
      "text/plain": [
       "Survived      0\n",
       "Pclass        0\n",
       "Name          0\n",
       "Sex           0\n",
       "Age         177\n",
       "SibSp         0\n",
       "Parch         0\n",
       "Ticket        0\n",
       "Fare          0\n",
       "Cabin       687\n",
       "Embarked      2\n",
       "dtype: int64"
      ]
     },
     "execution_count": 7,
     "metadata": {},
     "output_type": "execute_result"
    }
   ],
   "source": [
    "df.isna().sum()"
   ]
  },
  {
   "cell_type": "code",
   "execution_count": 8,
   "id": "dd8a7e0d-8018-4837-b946-bd3b78f0a6b6",
   "metadata": {
    "tags": []
   },
   "outputs": [
    {
     "name": "stdout",
     "output_type": "stream",
     "text": [
      "<class 'pandas.core.frame.DataFrame'>\n",
      "Int64Index: 891 entries, 0 to 890\n",
      "Data columns (total 11 columns):\n",
      " #   Column    Non-Null Count  Dtype  \n",
      "---  ------    --------------  -----  \n",
      " 0   Survived  891 non-null    int64  \n",
      " 1   Pclass    891 non-null    int64  \n",
      " 2   Name      891 non-null    object \n",
      " 3   Sex       891 non-null    object \n",
      " 4   Age       714 non-null    float64\n",
      " 5   SibSp     891 non-null    int64  \n",
      " 6   Parch     891 non-null    int64  \n",
      " 7   Ticket    891 non-null    object \n",
      " 8   Fare      891 non-null    float64\n",
      " 9   Cabin     204 non-null    object \n",
      " 10  Embarked  889 non-null    object \n",
      "dtypes: float64(2), int64(4), object(5)\n",
      "memory usage: 83.5+ KB\n"
     ]
    }
   ],
   "source": [
    "df.info()"
   ]
  },
  {
   "cell_type": "code",
   "execution_count": 9,
   "id": "4ea071f0-06ae-4b00-b642-5a674eed2481",
   "metadata": {
    "tags": []
   },
   "outputs": [
    {
     "data": {
      "text/plain": [
       "Survived      2\n",
       "Pclass        3\n",
       "Name        891\n",
       "Sex           2\n",
       "Age          88\n",
       "SibSp         7\n",
       "Parch         7\n",
       "Ticket      681\n",
       "Fare        248\n",
       "Cabin       147\n",
       "Embarked      3\n",
       "dtype: int64"
      ]
     },
     "execution_count": 9,
     "metadata": {},
     "output_type": "execute_result"
    }
   ],
   "source": [
    "df.nunique()"
   ]
  },
  {
   "cell_type": "markdown",
   "id": "67e45d7d-6644-4a77-b7ee-ba07cb878e99",
   "metadata": {},
   "source": [
    "### Findings\n",
    "\n",
    "- we can observe that thre are missing values in Age,Cabin And Embarked columns\n",
    "- we can observe \n",
    "    1. Continous data\n",
    "        - Age\n",
    "        - Fare\n",
    "    2. Catagorical data \n",
    "        - Survived\n",
    "        - Pclass\n",
    "        - Name\n",
    "        - Sex\n",
    "        - SibSp\n",
    "        - Parch\n",
    "        - Ticket\n",
    "        - Cabin\n",
    "        - Embarked\n",
    "        "
   ]
  },
  {
   "cell_type": "code",
   "execution_count": 10,
   "id": "9893b1ca-80e8-4ed3-b890-321947e830a8",
   "metadata": {
    "tags": []
   },
   "outputs": [
    {
     "data": {
      "text/html": [
       "<div>\n",
       "<style scoped>\n",
       "    .dataframe tbody tr th:only-of-type {\n",
       "        vertical-align: middle;\n",
       "    }\n",
       "\n",
       "    .dataframe tbody tr th {\n",
       "        vertical-align: top;\n",
       "    }\n",
       "\n",
       "    .dataframe thead th {\n",
       "        text-align: right;\n",
       "    }\n",
       "</style>\n",
       "<table border=\"1\" class=\"dataframe\">\n",
       "  <thead>\n",
       "    <tr style=\"text-align: right;\">\n",
       "      <th></th>\n",
       "      <th>Survived</th>\n",
       "      <th>Pclass</th>\n",
       "      <th>Age</th>\n",
       "      <th>SibSp</th>\n",
       "      <th>Parch</th>\n",
       "      <th>Fare</th>\n",
       "    </tr>\n",
       "  </thead>\n",
       "  <tbody>\n",
       "    <tr>\n",
       "      <th>count</th>\n",
       "      <td>891.000000</td>\n",
       "      <td>891.000000</td>\n",
       "      <td>714.000000</td>\n",
       "      <td>891.000000</td>\n",
       "      <td>891.000000</td>\n",
       "      <td>891.000000</td>\n",
       "    </tr>\n",
       "    <tr>\n",
       "      <th>mean</th>\n",
       "      <td>0.383838</td>\n",
       "      <td>2.308642</td>\n",
       "      <td>29.699118</td>\n",
       "      <td>0.523008</td>\n",
       "      <td>0.381594</td>\n",
       "      <td>32.204208</td>\n",
       "    </tr>\n",
       "    <tr>\n",
       "      <th>std</th>\n",
       "      <td>0.486592</td>\n",
       "      <td>0.836071</td>\n",
       "      <td>14.526497</td>\n",
       "      <td>1.102743</td>\n",
       "      <td>0.806057</td>\n",
       "      <td>49.693429</td>\n",
       "    </tr>\n",
       "    <tr>\n",
       "      <th>min</th>\n",
       "      <td>0.000000</td>\n",
       "      <td>1.000000</td>\n",
       "      <td>0.420000</td>\n",
       "      <td>0.000000</td>\n",
       "      <td>0.000000</td>\n",
       "      <td>0.000000</td>\n",
       "    </tr>\n",
       "    <tr>\n",
       "      <th>25%</th>\n",
       "      <td>0.000000</td>\n",
       "      <td>2.000000</td>\n",
       "      <td>20.125000</td>\n",
       "      <td>0.000000</td>\n",
       "      <td>0.000000</td>\n",
       "      <td>7.910400</td>\n",
       "    </tr>\n",
       "    <tr>\n",
       "      <th>50%</th>\n",
       "      <td>0.000000</td>\n",
       "      <td>3.000000</td>\n",
       "      <td>28.000000</td>\n",
       "      <td>0.000000</td>\n",
       "      <td>0.000000</td>\n",
       "      <td>14.454200</td>\n",
       "    </tr>\n",
       "    <tr>\n",
       "      <th>75%</th>\n",
       "      <td>1.000000</td>\n",
       "      <td>3.000000</td>\n",
       "      <td>38.000000</td>\n",
       "      <td>1.000000</td>\n",
       "      <td>0.000000</td>\n",
       "      <td>31.000000</td>\n",
       "    </tr>\n",
       "    <tr>\n",
       "      <th>max</th>\n",
       "      <td>1.000000</td>\n",
       "      <td>3.000000</td>\n",
       "      <td>80.000000</td>\n",
       "      <td>8.000000</td>\n",
       "      <td>6.000000</td>\n",
       "      <td>512.329200</td>\n",
       "    </tr>\n",
       "  </tbody>\n",
       "</table>\n",
       "</div>"
      ],
      "text/plain": [
       "         Survived      Pclass         Age       SibSp       Parch        Fare\n",
       "count  891.000000  891.000000  714.000000  891.000000  891.000000  891.000000\n",
       "mean     0.383838    2.308642   29.699118    0.523008    0.381594   32.204208\n",
       "std      0.486592    0.836071   14.526497    1.102743    0.806057   49.693429\n",
       "min      0.000000    1.000000    0.420000    0.000000    0.000000    0.000000\n",
       "25%      0.000000    2.000000   20.125000    0.000000    0.000000    7.910400\n",
       "50%      0.000000    3.000000   28.000000    0.000000    0.000000   14.454200\n",
       "75%      1.000000    3.000000   38.000000    1.000000    0.000000   31.000000\n",
       "max      1.000000    3.000000   80.000000    8.000000    6.000000  512.329200"
      ]
     },
     "execution_count": 10,
     "metadata": {},
     "output_type": "execute_result"
    }
   ],
   "source": [
    "df.describe()"
   ]
  },
  {
   "cell_type": "markdown",
   "id": "d1537b79-6c28-4814-8318-bc1fc5ac1951",
   "metadata": {},
   "source": [
    "### Findings\n",
    "\n",
    "- we can observe that in  fare column,age column,SibSp column,and Parch column there is huge difference between 3rd quartile and max value which indicates the presence of outliers\n",
    "\n",
    "- in both age and fare columns there is difference between mean and median which indicates presence of skeweness (i.e not normally distributed)"
   ]
  },
  {
   "cell_type": "markdown",
   "id": "23654936-83af-44df-b893-b488915a723c",
   "metadata": {},
   "source": [
    "### Encoading object type data"
   ]
  },
  {
   "cell_type": "markdown",
   "id": "5b4d9de9-c487-47d4-8caa-6568e33053c7",
   "metadata": {},
   "source": [
    "- since there are high number of unique values one-hot-encoader and pd.get dummies will create too many rows so we will go with lable encoader \n",
    "\n",
    "- then we must replace encoaded nan values with np.nan"
   ]
  },
  {
   "cell_type": "code",
   "execution_count": 11,
   "id": "a71989af-7e2b-4be4-83ef-196f3e620d4f",
   "metadata": {
    "tags": []
   },
   "outputs": [],
   "source": [
    "mask = df.isna()"
   ]
  },
  {
   "cell_type": "code",
   "execution_count": 12,
   "id": "b4eee937-4b8d-4a7f-9bd6-97ce767b569e",
   "metadata": {
    "tags": []
   },
   "outputs": [
    {
     "data": {
      "text/html": [
       "<div>\n",
       "<style scoped>\n",
       "    .dataframe tbody tr th:only-of-type {\n",
       "        vertical-align: middle;\n",
       "    }\n",
       "\n",
       "    .dataframe tbody tr th {\n",
       "        vertical-align: top;\n",
       "    }\n",
       "\n",
       "    .dataframe thead th {\n",
       "        text-align: right;\n",
       "    }\n",
       "</style>\n",
       "<table border=\"1\" class=\"dataframe\">\n",
       "  <thead>\n",
       "    <tr style=\"text-align: right;\">\n",
       "      <th></th>\n",
       "      <th>Survived</th>\n",
       "      <th>Pclass</th>\n",
       "      <th>Name</th>\n",
       "      <th>Sex</th>\n",
       "      <th>Age</th>\n",
       "      <th>SibSp</th>\n",
       "      <th>Parch</th>\n",
       "      <th>Ticket</th>\n",
       "      <th>Fare</th>\n",
       "      <th>Cabin</th>\n",
       "      <th>Embarked</th>\n",
       "    </tr>\n",
       "  </thead>\n",
       "  <tbody>\n",
       "    <tr>\n",
       "      <th>0</th>\n",
       "      <td>0</td>\n",
       "      <td>3</td>\n",
       "      <td>108</td>\n",
       "      <td>1</td>\n",
       "      <td>22.0</td>\n",
       "      <td>1</td>\n",
       "      <td>0</td>\n",
       "      <td>523</td>\n",
       "      <td>7.2500</td>\n",
       "      <td>NaN</td>\n",
       "      <td>2.0</td>\n",
       "    </tr>\n",
       "    <tr>\n",
       "      <th>1</th>\n",
       "      <td>1</td>\n",
       "      <td>1</td>\n",
       "      <td>190</td>\n",
       "      <td>0</td>\n",
       "      <td>38.0</td>\n",
       "      <td>1</td>\n",
       "      <td>0</td>\n",
       "      <td>596</td>\n",
       "      <td>71.2833</td>\n",
       "      <td>81.0</td>\n",
       "      <td>0.0</td>\n",
       "    </tr>\n",
       "    <tr>\n",
       "      <th>2</th>\n",
       "      <td>1</td>\n",
       "      <td>3</td>\n",
       "      <td>353</td>\n",
       "      <td>0</td>\n",
       "      <td>26.0</td>\n",
       "      <td>0</td>\n",
       "      <td>0</td>\n",
       "      <td>669</td>\n",
       "      <td>7.9250</td>\n",
       "      <td>NaN</td>\n",
       "      <td>2.0</td>\n",
       "    </tr>\n",
       "    <tr>\n",
       "      <th>3</th>\n",
       "      <td>1</td>\n",
       "      <td>1</td>\n",
       "      <td>272</td>\n",
       "      <td>0</td>\n",
       "      <td>35.0</td>\n",
       "      <td>1</td>\n",
       "      <td>0</td>\n",
       "      <td>49</td>\n",
       "      <td>53.1000</td>\n",
       "      <td>55.0</td>\n",
       "      <td>2.0</td>\n",
       "    </tr>\n",
       "    <tr>\n",
       "      <th>4</th>\n",
       "      <td>0</td>\n",
       "      <td>3</td>\n",
       "      <td>15</td>\n",
       "      <td>1</td>\n",
       "      <td>35.0</td>\n",
       "      <td>0</td>\n",
       "      <td>0</td>\n",
       "      <td>472</td>\n",
       "      <td>8.0500</td>\n",
       "      <td>NaN</td>\n",
       "      <td>2.0</td>\n",
       "    </tr>\n",
       "    <tr>\n",
       "      <th>...</th>\n",
       "      <td>...</td>\n",
       "      <td>...</td>\n",
       "      <td>...</td>\n",
       "      <td>...</td>\n",
       "      <td>...</td>\n",
       "      <td>...</td>\n",
       "      <td>...</td>\n",
       "      <td>...</td>\n",
       "      <td>...</td>\n",
       "      <td>...</td>\n",
       "      <td>...</td>\n",
       "    </tr>\n",
       "    <tr>\n",
       "      <th>886</th>\n",
       "      <td>0</td>\n",
       "      <td>2</td>\n",
       "      <td>548</td>\n",
       "      <td>1</td>\n",
       "      <td>27.0</td>\n",
       "      <td>0</td>\n",
       "      <td>0</td>\n",
       "      <td>101</td>\n",
       "      <td>13.0000</td>\n",
       "      <td>NaN</td>\n",
       "      <td>2.0</td>\n",
       "    </tr>\n",
       "    <tr>\n",
       "      <th>887</th>\n",
       "      <td>1</td>\n",
       "      <td>1</td>\n",
       "      <td>303</td>\n",
       "      <td>0</td>\n",
       "      <td>19.0</td>\n",
       "      <td>0</td>\n",
       "      <td>0</td>\n",
       "      <td>14</td>\n",
       "      <td>30.0000</td>\n",
       "      <td>30.0</td>\n",
       "      <td>2.0</td>\n",
       "    </tr>\n",
       "    <tr>\n",
       "      <th>888</th>\n",
       "      <td>0</td>\n",
       "      <td>3</td>\n",
       "      <td>413</td>\n",
       "      <td>0</td>\n",
       "      <td>NaN</td>\n",
       "      <td>1</td>\n",
       "      <td>2</td>\n",
       "      <td>675</td>\n",
       "      <td>23.4500</td>\n",
       "      <td>NaN</td>\n",
       "      <td>2.0</td>\n",
       "    </tr>\n",
       "    <tr>\n",
       "      <th>889</th>\n",
       "      <td>1</td>\n",
       "      <td>1</td>\n",
       "      <td>81</td>\n",
       "      <td>1</td>\n",
       "      <td>26.0</td>\n",
       "      <td>0</td>\n",
       "      <td>0</td>\n",
       "      <td>8</td>\n",
       "      <td>30.0000</td>\n",
       "      <td>60.0</td>\n",
       "      <td>0.0</td>\n",
       "    </tr>\n",
       "    <tr>\n",
       "      <th>890</th>\n",
       "      <td>0</td>\n",
       "      <td>3</td>\n",
       "      <td>220</td>\n",
       "      <td>1</td>\n",
       "      <td>32.0</td>\n",
       "      <td>0</td>\n",
       "      <td>0</td>\n",
       "      <td>466</td>\n",
       "      <td>7.7500</td>\n",
       "      <td>NaN</td>\n",
       "      <td>1.0</td>\n",
       "    </tr>\n",
       "  </tbody>\n",
       "</table>\n",
       "<p>891 rows × 11 columns</p>\n",
       "</div>"
      ],
      "text/plain": [
       "     Survived  Pclass  Name  Sex   Age  SibSp  Parch  Ticket     Fare  Cabin  \\\n",
       "0           0       3   108    1  22.0      1      0     523   7.2500    NaN   \n",
       "1           1       1   190    0  38.0      1      0     596  71.2833   81.0   \n",
       "2           1       3   353    0  26.0      0      0     669   7.9250    NaN   \n",
       "3           1       1   272    0  35.0      1      0      49  53.1000   55.0   \n",
       "4           0       3    15    1  35.0      0      0     472   8.0500    NaN   \n",
       "..        ...     ...   ...  ...   ...    ...    ...     ...      ...    ...   \n",
       "886         0       2   548    1  27.0      0      0     101  13.0000    NaN   \n",
       "887         1       1   303    0  19.0      0      0      14  30.0000   30.0   \n",
       "888         0       3   413    0   NaN      1      2     675  23.4500    NaN   \n",
       "889         1       1    81    1  26.0      0      0       8  30.0000   60.0   \n",
       "890         0       3   220    1  32.0      0      0     466   7.7500    NaN   \n",
       "\n",
       "     Embarked  \n",
       "0         2.0  \n",
       "1         0.0  \n",
       "2         2.0  \n",
       "3         2.0  \n",
       "4         2.0  \n",
       "..        ...  \n",
       "886       2.0  \n",
       "887       2.0  \n",
       "888       2.0  \n",
       "889       0.0  \n",
       "890       1.0  \n",
       "\n",
       "[891 rows x 11 columns]"
      ]
     },
     "execution_count": 12,
     "metadata": {},
     "output_type": "execute_result"
    }
   ],
   "source": [
    "# step 1 encoading using label encoader\n",
    "from sklearn.preprocessing import LabelEncoder\n",
    "lben = LabelEncoder()\n",
    "df['Name']=lben.fit_transform(df['Name'])\n",
    "df['Sex']=lben.fit_transform(df['Sex'])\n",
    "df['Ticket']=lben.fit_transform(df['Ticket'])\n",
    "df['Cabin']=lben.fit_transform(df['Cabin'])\n",
    "df['Embarked']=lben.fit_transform(df['Embarked'])\n",
    "\n",
    "\n",
    "# step 2 replacing encoaded nan values with original nan values using mask function\n",
    "df.mask(mask==True,np.nan,inplace=True)\n",
    "df"
   ]
  },
  {
   "cell_type": "markdown",
   "id": "d25b964e-a510-4dc8-9fb5-57f4a28dffe0",
   "metadata": {},
   "source": [
    "### Missing value treatment\n",
    "\n",
    "- since there are many null values in cabin column we cannot remove them row wise, it is better to remove that column"
   ]
  },
  {
   "cell_type": "code",
   "execution_count": 13,
   "id": "616d6d8a-f2ce-400a-b6f1-17eb62685a27",
   "metadata": {
    "tags": []
   },
   "outputs": [
    {
     "data": {
      "text/html": [
       "<div>\n",
       "<style scoped>\n",
       "    .dataframe tbody tr th:only-of-type {\n",
       "        vertical-align: middle;\n",
       "    }\n",
       "\n",
       "    .dataframe tbody tr th {\n",
       "        vertical-align: top;\n",
       "    }\n",
       "\n",
       "    .dataframe thead th {\n",
       "        text-align: right;\n",
       "    }\n",
       "</style>\n",
       "<table border=\"1\" class=\"dataframe\">\n",
       "  <thead>\n",
       "    <tr style=\"text-align: right;\">\n",
       "      <th></th>\n",
       "      <th>Survived</th>\n",
       "      <th>Pclass</th>\n",
       "      <th>Name</th>\n",
       "      <th>Sex</th>\n",
       "      <th>Age</th>\n",
       "      <th>SibSp</th>\n",
       "      <th>Parch</th>\n",
       "      <th>Ticket</th>\n",
       "      <th>Fare</th>\n",
       "      <th>Embarked</th>\n",
       "    </tr>\n",
       "  </thead>\n",
       "  <tbody>\n",
       "    <tr>\n",
       "      <th>0</th>\n",
       "      <td>0</td>\n",
       "      <td>3</td>\n",
       "      <td>108</td>\n",
       "      <td>1</td>\n",
       "      <td>22.0</td>\n",
       "      <td>1</td>\n",
       "      <td>0</td>\n",
       "      <td>523</td>\n",
       "      <td>7.2500</td>\n",
       "      <td>2.0</td>\n",
       "    </tr>\n",
       "    <tr>\n",
       "      <th>1</th>\n",
       "      <td>1</td>\n",
       "      <td>1</td>\n",
       "      <td>190</td>\n",
       "      <td>0</td>\n",
       "      <td>38.0</td>\n",
       "      <td>1</td>\n",
       "      <td>0</td>\n",
       "      <td>596</td>\n",
       "      <td>71.2833</td>\n",
       "      <td>0.0</td>\n",
       "    </tr>\n",
       "    <tr>\n",
       "      <th>2</th>\n",
       "      <td>1</td>\n",
       "      <td>3</td>\n",
       "      <td>353</td>\n",
       "      <td>0</td>\n",
       "      <td>26.0</td>\n",
       "      <td>0</td>\n",
       "      <td>0</td>\n",
       "      <td>669</td>\n",
       "      <td>7.9250</td>\n",
       "      <td>2.0</td>\n",
       "    </tr>\n",
       "    <tr>\n",
       "      <th>3</th>\n",
       "      <td>1</td>\n",
       "      <td>1</td>\n",
       "      <td>272</td>\n",
       "      <td>0</td>\n",
       "      <td>35.0</td>\n",
       "      <td>1</td>\n",
       "      <td>0</td>\n",
       "      <td>49</td>\n",
       "      <td>53.1000</td>\n",
       "      <td>2.0</td>\n",
       "    </tr>\n",
       "    <tr>\n",
       "      <th>4</th>\n",
       "      <td>0</td>\n",
       "      <td>3</td>\n",
       "      <td>15</td>\n",
       "      <td>1</td>\n",
       "      <td>35.0</td>\n",
       "      <td>0</td>\n",
       "      <td>0</td>\n",
       "      <td>472</td>\n",
       "      <td>8.0500</td>\n",
       "      <td>2.0</td>\n",
       "    </tr>\n",
       "    <tr>\n",
       "      <th>...</th>\n",
       "      <td>...</td>\n",
       "      <td>...</td>\n",
       "      <td>...</td>\n",
       "      <td>...</td>\n",
       "      <td>...</td>\n",
       "      <td>...</td>\n",
       "      <td>...</td>\n",
       "      <td>...</td>\n",
       "      <td>...</td>\n",
       "      <td>...</td>\n",
       "    </tr>\n",
       "    <tr>\n",
       "      <th>886</th>\n",
       "      <td>0</td>\n",
       "      <td>2</td>\n",
       "      <td>548</td>\n",
       "      <td>1</td>\n",
       "      <td>27.0</td>\n",
       "      <td>0</td>\n",
       "      <td>0</td>\n",
       "      <td>101</td>\n",
       "      <td>13.0000</td>\n",
       "      <td>2.0</td>\n",
       "    </tr>\n",
       "    <tr>\n",
       "      <th>887</th>\n",
       "      <td>1</td>\n",
       "      <td>1</td>\n",
       "      <td>303</td>\n",
       "      <td>0</td>\n",
       "      <td>19.0</td>\n",
       "      <td>0</td>\n",
       "      <td>0</td>\n",
       "      <td>14</td>\n",
       "      <td>30.0000</td>\n",
       "      <td>2.0</td>\n",
       "    </tr>\n",
       "    <tr>\n",
       "      <th>888</th>\n",
       "      <td>0</td>\n",
       "      <td>3</td>\n",
       "      <td>413</td>\n",
       "      <td>0</td>\n",
       "      <td>NaN</td>\n",
       "      <td>1</td>\n",
       "      <td>2</td>\n",
       "      <td>675</td>\n",
       "      <td>23.4500</td>\n",
       "      <td>2.0</td>\n",
       "    </tr>\n",
       "    <tr>\n",
       "      <th>889</th>\n",
       "      <td>1</td>\n",
       "      <td>1</td>\n",
       "      <td>81</td>\n",
       "      <td>1</td>\n",
       "      <td>26.0</td>\n",
       "      <td>0</td>\n",
       "      <td>0</td>\n",
       "      <td>8</td>\n",
       "      <td>30.0000</td>\n",
       "      <td>0.0</td>\n",
       "    </tr>\n",
       "    <tr>\n",
       "      <th>890</th>\n",
       "      <td>0</td>\n",
       "      <td>3</td>\n",
       "      <td>220</td>\n",
       "      <td>1</td>\n",
       "      <td>32.0</td>\n",
       "      <td>0</td>\n",
       "      <td>0</td>\n",
       "      <td>466</td>\n",
       "      <td>7.7500</td>\n",
       "      <td>1.0</td>\n",
       "    </tr>\n",
       "  </tbody>\n",
       "</table>\n",
       "<p>891 rows × 10 columns</p>\n",
       "</div>"
      ],
      "text/plain": [
       "     Survived  Pclass  Name  Sex   Age  SibSp  Parch  Ticket     Fare  \\\n",
       "0           0       3   108    1  22.0      1      0     523   7.2500   \n",
       "1           1       1   190    0  38.0      1      0     596  71.2833   \n",
       "2           1       3   353    0  26.0      0      0     669   7.9250   \n",
       "3           1       1   272    0  35.0      1      0      49  53.1000   \n",
       "4           0       3    15    1  35.0      0      0     472   8.0500   \n",
       "..        ...     ...   ...  ...   ...    ...    ...     ...      ...   \n",
       "886         0       2   548    1  27.0      0      0     101  13.0000   \n",
       "887         1       1   303    0  19.0      0      0      14  30.0000   \n",
       "888         0       3   413    0   NaN      1      2     675  23.4500   \n",
       "889         1       1    81    1  26.0      0      0       8  30.0000   \n",
       "890         0       3   220    1  32.0      0      0     466   7.7500   \n",
       "\n",
       "     Embarked  \n",
       "0         2.0  \n",
       "1         0.0  \n",
       "2         2.0  \n",
       "3         2.0  \n",
       "4         2.0  \n",
       "..        ...  \n",
       "886       2.0  \n",
       "887       2.0  \n",
       "888       2.0  \n",
       "889       0.0  \n",
       "890       1.0  \n",
       "\n",
       "[891 rows x 10 columns]"
      ]
     },
     "execution_count": 13,
     "metadata": {},
     "output_type": "execute_result"
    }
   ],
   "source": [
    "# deleting cabin column\n",
    "df.drop(columns='Cabin',inplace=True)\n",
    "df"
   ]
  },
  {
   "cell_type": "code",
   "execution_count": 14,
   "id": "20b023a9-8a85-4e61-9ad6-fd39937f2217",
   "metadata": {
    "tags": []
   },
   "outputs": [
    {
     "data": {
      "text/html": [
       "<div>\n",
       "<style scoped>\n",
       "    .dataframe tbody tr th:only-of-type {\n",
       "        vertical-align: middle;\n",
       "    }\n",
       "\n",
       "    .dataframe tbody tr th {\n",
       "        vertical-align: top;\n",
       "    }\n",
       "\n",
       "    .dataframe thead th {\n",
       "        text-align: right;\n",
       "    }\n",
       "</style>\n",
       "<table border=\"1\" class=\"dataframe\">\n",
       "  <thead>\n",
       "    <tr style=\"text-align: right;\">\n",
       "      <th></th>\n",
       "      <th>Survived</th>\n",
       "      <th>Pclass</th>\n",
       "      <th>Name</th>\n",
       "      <th>Sex</th>\n",
       "      <th>Age</th>\n",
       "      <th>SibSp</th>\n",
       "      <th>Parch</th>\n",
       "      <th>Ticket</th>\n",
       "      <th>Fare</th>\n",
       "      <th>Embarked</th>\n",
       "    </tr>\n",
       "  </thead>\n",
       "  <tbody>\n",
       "    <tr>\n",
       "      <th>0</th>\n",
       "      <td>0.0</td>\n",
       "      <td>3.0</td>\n",
       "      <td>108.0</td>\n",
       "      <td>1.0</td>\n",
       "      <td>22.0</td>\n",
       "      <td>1.0</td>\n",
       "      <td>0.0</td>\n",
       "      <td>523.0</td>\n",
       "      <td>7.2500</td>\n",
       "      <td>2.0</td>\n",
       "    </tr>\n",
       "    <tr>\n",
       "      <th>1</th>\n",
       "      <td>1.0</td>\n",
       "      <td>1.0</td>\n",
       "      <td>190.0</td>\n",
       "      <td>0.0</td>\n",
       "      <td>38.0</td>\n",
       "      <td>1.0</td>\n",
       "      <td>0.0</td>\n",
       "      <td>596.0</td>\n",
       "      <td>71.2833</td>\n",
       "      <td>0.0</td>\n",
       "    </tr>\n",
       "    <tr>\n",
       "      <th>2</th>\n",
       "      <td>1.0</td>\n",
       "      <td>3.0</td>\n",
       "      <td>353.0</td>\n",
       "      <td>0.0</td>\n",
       "      <td>26.0</td>\n",
       "      <td>0.0</td>\n",
       "      <td>0.0</td>\n",
       "      <td>669.0</td>\n",
       "      <td>7.9250</td>\n",
       "      <td>2.0</td>\n",
       "    </tr>\n",
       "    <tr>\n",
       "      <th>3</th>\n",
       "      <td>1.0</td>\n",
       "      <td>1.0</td>\n",
       "      <td>272.0</td>\n",
       "      <td>0.0</td>\n",
       "      <td>35.0</td>\n",
       "      <td>1.0</td>\n",
       "      <td>0.0</td>\n",
       "      <td>49.0</td>\n",
       "      <td>53.1000</td>\n",
       "      <td>2.0</td>\n",
       "    </tr>\n",
       "    <tr>\n",
       "      <th>4</th>\n",
       "      <td>0.0</td>\n",
       "      <td>3.0</td>\n",
       "      <td>15.0</td>\n",
       "      <td>1.0</td>\n",
       "      <td>35.0</td>\n",
       "      <td>0.0</td>\n",
       "      <td>0.0</td>\n",
       "      <td>472.0</td>\n",
       "      <td>8.0500</td>\n",
       "      <td>2.0</td>\n",
       "    </tr>\n",
       "    <tr>\n",
       "      <th>...</th>\n",
       "      <td>...</td>\n",
       "      <td>...</td>\n",
       "      <td>...</td>\n",
       "      <td>...</td>\n",
       "      <td>...</td>\n",
       "      <td>...</td>\n",
       "      <td>...</td>\n",
       "      <td>...</td>\n",
       "      <td>...</td>\n",
       "      <td>...</td>\n",
       "    </tr>\n",
       "    <tr>\n",
       "      <th>886</th>\n",
       "      <td>0.0</td>\n",
       "      <td>2.0</td>\n",
       "      <td>548.0</td>\n",
       "      <td>1.0</td>\n",
       "      <td>27.0</td>\n",
       "      <td>0.0</td>\n",
       "      <td>0.0</td>\n",
       "      <td>101.0</td>\n",
       "      <td>13.0000</td>\n",
       "      <td>2.0</td>\n",
       "    </tr>\n",
       "    <tr>\n",
       "      <th>887</th>\n",
       "      <td>1.0</td>\n",
       "      <td>1.0</td>\n",
       "      <td>303.0</td>\n",
       "      <td>0.0</td>\n",
       "      <td>19.0</td>\n",
       "      <td>0.0</td>\n",
       "      <td>0.0</td>\n",
       "      <td>14.0</td>\n",
       "      <td>30.0000</td>\n",
       "      <td>2.0</td>\n",
       "    </tr>\n",
       "    <tr>\n",
       "      <th>888</th>\n",
       "      <td>0.0</td>\n",
       "      <td>3.0</td>\n",
       "      <td>413.0</td>\n",
       "      <td>0.0</td>\n",
       "      <td>23.6</td>\n",
       "      <td>1.0</td>\n",
       "      <td>2.0</td>\n",
       "      <td>675.0</td>\n",
       "      <td>23.4500</td>\n",
       "      <td>2.0</td>\n",
       "    </tr>\n",
       "    <tr>\n",
       "      <th>889</th>\n",
       "      <td>1.0</td>\n",
       "      <td>1.0</td>\n",
       "      <td>81.0</td>\n",
       "      <td>1.0</td>\n",
       "      <td>26.0</td>\n",
       "      <td>0.0</td>\n",
       "      <td>0.0</td>\n",
       "      <td>8.0</td>\n",
       "      <td>30.0000</td>\n",
       "      <td>0.0</td>\n",
       "    </tr>\n",
       "    <tr>\n",
       "      <th>890</th>\n",
       "      <td>0.0</td>\n",
       "      <td>3.0</td>\n",
       "      <td>220.0</td>\n",
       "      <td>1.0</td>\n",
       "      <td>32.0</td>\n",
       "      <td>0.0</td>\n",
       "      <td>0.0</td>\n",
       "      <td>466.0</td>\n",
       "      <td>7.7500</td>\n",
       "      <td>1.0</td>\n",
       "    </tr>\n",
       "  </tbody>\n",
       "</table>\n",
       "<p>891 rows × 10 columns</p>\n",
       "</div>"
      ],
      "text/plain": [
       "     Survived  Pclass   Name  Sex   Age  SibSp  Parch  Ticket     Fare  \\\n",
       "0         0.0     3.0  108.0  1.0  22.0    1.0    0.0   523.0   7.2500   \n",
       "1         1.0     1.0  190.0  0.0  38.0    1.0    0.0   596.0  71.2833   \n",
       "2         1.0     3.0  353.0  0.0  26.0    0.0    0.0   669.0   7.9250   \n",
       "3         1.0     1.0  272.0  0.0  35.0    1.0    0.0    49.0  53.1000   \n",
       "4         0.0     3.0   15.0  1.0  35.0    0.0    0.0   472.0   8.0500   \n",
       "..        ...     ...    ...  ...   ...    ...    ...     ...      ...   \n",
       "886       0.0     2.0  548.0  1.0  27.0    0.0    0.0   101.0  13.0000   \n",
       "887       1.0     1.0  303.0  0.0  19.0    0.0    0.0    14.0  30.0000   \n",
       "888       0.0     3.0  413.0  0.0  23.6    1.0    2.0   675.0  23.4500   \n",
       "889       1.0     1.0   81.0  1.0  26.0    0.0    0.0     8.0  30.0000   \n",
       "890       0.0     3.0  220.0  1.0  32.0    0.0    0.0   466.0   7.7500   \n",
       "\n",
       "     Embarked  \n",
       "0         2.0  \n",
       "1         0.0  \n",
       "2         2.0  \n",
       "3         2.0  \n",
       "4         2.0  \n",
       "..        ...  \n",
       "886       2.0  \n",
       "887       2.0  \n",
       "888       2.0  \n",
       "889       0.0  \n",
       "890       1.0  \n",
       "\n",
       "[891 rows x 10 columns]"
      ]
     },
     "execution_count": 14,
     "metadata": {},
     "output_type": "execute_result"
    }
   ],
   "source": [
    "# using knn inputer for filling null values\n",
    "from sklearn.impute import KNNImputer\n",
    "kimp = KNNImputer(n_neighbors=5)\n",
    "df1=pd.DataFrame(kimp.fit_transform(X=df),columns=[ 'Survived', 'Pclass', 'Name', 'Sex', 'Age', 'SibSp','Parch', 'Ticket', 'Fare', 'Embarked'])\n",
    "df1"
   ]
  },
  {
   "cell_type": "markdown",
   "id": "24e5c90d-c818-49ed-9ec3-8f11b1e7b88e",
   "metadata": {},
   "source": [
    "### graphical univariate analysis"
   ]
  },
  {
   "cell_type": "code",
   "execution_count": 15,
   "id": "6d4d7585-d727-4996-86cc-264399b1c579",
   "metadata": {
    "tags": []
   },
   "outputs": [
    {
     "data": {
      "image/png": "[encoded data removed]",
      "text/plain": [
       "<Figure size 2000x2000 with 2 Axes>"
      ]
     },
     "metadata": {},
     "output_type": "display_data"
    }
   ],
   "source": [
    "# dist plot for continous data\n",
    "plt.figure(figsize=(20,20))\n",
    "\n",
    "    \n",
    "sns.distplot(df1['Age'],ax=plt.subplot(1,2,1))\n",
    "plt.xlabel('Age',fontsize = 20)\n",
    "sns.distplot(df1['Fare'],ax=plt.subplot(1,2,2))\n",
    "plt.xlabel('Fare',fontsize = 20)\n",
    "    \n",
    "plt.tight_layout()  "
   ]
  },
  {
   "cell_type": "markdown",
   "id": "fbac471f-ebe0-4e1e-8b47-7fbd45c830b0",
   "metadata": {},
   "source": [
    "- age seems normally distributed \n",
    "- Fare seems positively skewed(right skewed) and also there may be presence of outliers"
   ]
  },
  {
   "cell_type": "code",
   "execution_count": 16,
   "id": "336fc533-6466-4023-9a44-b1f2807aeeef",
   "metadata": {
    "tags": []
   },
   "outputs": [
    {
     "data": {
      "image/png": "[encoded data removed]",
      "text/plain": [
       "<Figure size 2000x2000 with 5 Axes>"
      ]
     },
     "metadata": {},
     "output_type": "display_data"
    }
   ],
   "source": [
    "plt.figure(figsize=(20,20))\n",
    "\n",
    "sns.countplot(df1,x='Pclass',ax=plt.subplot(2,3,1))\n",
    "sns.countplot(df1,x='Sex',ax=plt.subplot(2,3,2))\n",
    "sns.countplot(df1,x='SibSp',ax=plt.subplot(2,3,5))\n",
    "sns.countplot(df1,x='Parch',ax=plt.subplot(2,3,4))\n",
    "sns.countplot(df1,x='Embarked',ax=plt.subplot(2,3,3))\n",
    "sns.countplot(df1,x='Survived',ax=plt.subplot(2,3,3))\n",
    "plt.tight_layout()"
   ]
  },
  {
   "cell_type": "markdown",
   "id": "e33a6390-1b7c-4c36-999b-f76a97f3b343",
   "metadata": {},
   "source": [
    "- there are more number of  3rd class passenger then total number of passengers in other classes \n",
    "- there are alomost 80% more male passengers then female passengers\n",
    "- majority number of passengers embarked at Southampton\n",
    "- majority of passengers have no Siblings/Spouses Aboard\n",
    "- majority of passengers have no Siblings/Spouses Aboard Parents/Children Aboard"
   ]
  },
  {
   "cell_type": "code",
   "execution_count": 17,
   "id": "531d485e-a29f-4b5d-b00c-73309d653d78",
   "metadata": {
    "tags": []
   },
   "outputs": [
    {
     "data": {
      "text/html": [
       "<div>\n",
       "<style scoped>\n",
       "    .dataframe tbody tr th:only-of-type {\n",
       "        vertical-align: middle;\n",
       "    }\n",
       "\n",
       "    .dataframe tbody tr th {\n",
       "        vertical-align: top;\n",
       "    }\n",
       "\n",
       "    .dataframe thead th {\n",
       "        text-align: right;\n",
       "    }\n",
       "</style>\n",
       "<table border=\"1\" class=\"dataframe\">\n",
       "  <thead>\n",
       "    <tr style=\"text-align: right;\">\n",
       "      <th></th>\n",
       "      <th>Survived</th>\n",
       "      <th>Pclass</th>\n",
       "      <th>Name</th>\n",
       "      <th>Sex</th>\n",
       "      <th>Age</th>\n",
       "      <th>SibSp</th>\n",
       "      <th>Parch</th>\n",
       "      <th>Ticket</th>\n",
       "      <th>Fare</th>\n",
       "      <th>Embarked</th>\n",
       "    </tr>\n",
       "  </thead>\n",
       "  <tbody>\n",
       "    <tr>\n",
       "      <th>0</th>\n",
       "      <td>0.0</td>\n",
       "      <td>3.0</td>\n",
       "      <td>108.0</td>\n",
       "      <td>1.0</td>\n",
       "      <td>22.0</td>\n",
       "      <td>1.0</td>\n",
       "      <td>0.0</td>\n",
       "      <td>523.0</td>\n",
       "      <td>7.2500</td>\n",
       "      <td>2.0</td>\n",
       "    </tr>\n",
       "    <tr>\n",
       "      <th>1</th>\n",
       "      <td>1.0</td>\n",
       "      <td>1.0</td>\n",
       "      <td>190.0</td>\n",
       "      <td>0.0</td>\n",
       "      <td>38.0</td>\n",
       "      <td>1.0</td>\n",
       "      <td>0.0</td>\n",
       "      <td>596.0</td>\n",
       "      <td>71.2833</td>\n",
       "      <td>0.0</td>\n",
       "    </tr>\n",
       "    <tr>\n",
       "      <th>2</th>\n",
       "      <td>1.0</td>\n",
       "      <td>3.0</td>\n",
       "      <td>353.0</td>\n",
       "      <td>0.0</td>\n",
       "      <td>26.0</td>\n",
       "      <td>0.0</td>\n",
       "      <td>0.0</td>\n",
       "      <td>669.0</td>\n",
       "      <td>7.9250</td>\n",
       "      <td>2.0</td>\n",
       "    </tr>\n",
       "    <tr>\n",
       "      <th>3</th>\n",
       "      <td>1.0</td>\n",
       "      <td>1.0</td>\n",
       "      <td>272.0</td>\n",
       "      <td>0.0</td>\n",
       "      <td>35.0</td>\n",
       "      <td>1.0</td>\n",
       "      <td>0.0</td>\n",
       "      <td>49.0</td>\n",
       "      <td>53.1000</td>\n",
       "      <td>2.0</td>\n",
       "    </tr>\n",
       "    <tr>\n",
       "      <th>4</th>\n",
       "      <td>0.0</td>\n",
       "      <td>3.0</td>\n",
       "      <td>15.0</td>\n",
       "      <td>1.0</td>\n",
       "      <td>35.0</td>\n",
       "      <td>0.0</td>\n",
       "      <td>0.0</td>\n",
       "      <td>472.0</td>\n",
       "      <td>8.0500</td>\n",
       "      <td>2.0</td>\n",
       "    </tr>\n",
       "    <tr>\n",
       "      <th>...</th>\n",
       "      <td>...</td>\n",
       "      <td>...</td>\n",
       "      <td>...</td>\n",
       "      <td>...</td>\n",
       "      <td>...</td>\n",
       "      <td>...</td>\n",
       "      <td>...</td>\n",
       "      <td>...</td>\n",
       "      <td>...</td>\n",
       "      <td>...</td>\n",
       "    </tr>\n",
       "    <tr>\n",
       "      <th>886</th>\n",
       "      <td>0.0</td>\n",
       "      <td>2.0</td>\n",
       "      <td>548.0</td>\n",
       "      <td>1.0</td>\n",
       "      <td>27.0</td>\n",
       "      <td>0.0</td>\n",
       "      <td>0.0</td>\n",
       "      <td>101.0</td>\n",
       "      <td>13.0000</td>\n",
       "      <td>2.0</td>\n",
       "    </tr>\n",
       "    <tr>\n",
       "      <th>887</th>\n",
       "      <td>1.0</td>\n",
       "      <td>1.0</td>\n",
       "      <td>303.0</td>\n",
       "      <td>0.0</td>\n",
       "      <td>19.0</td>\n",
       "      <td>0.0</td>\n",
       "      <td>0.0</td>\n",
       "      <td>14.0</td>\n",
       "      <td>30.0000</td>\n",
       "      <td>2.0</td>\n",
       "    </tr>\n",
       "    <tr>\n",
       "      <th>888</th>\n",
       "      <td>0.0</td>\n",
       "      <td>3.0</td>\n",
       "      <td>413.0</td>\n",
       "      <td>0.0</td>\n",
       "      <td>23.6</td>\n",
       "      <td>1.0</td>\n",
       "      <td>2.0</td>\n",
       "      <td>675.0</td>\n",
       "      <td>23.4500</td>\n",
       "      <td>2.0</td>\n",
       "    </tr>\n",
       "    <tr>\n",
       "      <th>889</th>\n",
       "      <td>1.0</td>\n",
       "      <td>1.0</td>\n",
       "      <td>81.0</td>\n",
       "      <td>1.0</td>\n",
       "      <td>26.0</td>\n",
       "      <td>0.0</td>\n",
       "      <td>0.0</td>\n",
       "      <td>8.0</td>\n",
       "      <td>30.0000</td>\n",
       "      <td>0.0</td>\n",
       "    </tr>\n",
       "    <tr>\n",
       "      <th>890</th>\n",
       "      <td>0.0</td>\n",
       "      <td>3.0</td>\n",
       "      <td>220.0</td>\n",
       "      <td>1.0</td>\n",
       "      <td>32.0</td>\n",
       "      <td>0.0</td>\n",
       "      <td>0.0</td>\n",
       "      <td>466.0</td>\n",
       "      <td>7.7500</td>\n",
       "      <td>1.0</td>\n",
       "    </tr>\n",
       "  </tbody>\n",
       "</table>\n",
       "<p>891 rows × 10 columns</p>\n",
       "</div>"
      ],
      "text/plain": [
       "     Survived  Pclass   Name  Sex   Age  SibSp  Parch  Ticket     Fare  \\\n",
       "0         0.0     3.0  108.0  1.0  22.0    1.0    0.0   523.0   7.2500   \n",
       "1         1.0     1.0  190.0  0.0  38.0    1.0    0.0   596.0  71.2833   \n",
       "2         1.0     3.0  353.0  0.0  26.0    0.0    0.0   669.0   7.9250   \n",
       "3         1.0     1.0  272.0  0.0  35.0    1.0    0.0    49.0  53.1000   \n",
       "4         0.0     3.0   15.0  1.0  35.0    0.0    0.0   472.0   8.0500   \n",
       "..        ...     ...    ...  ...   ...    ...    ...     ...      ...   \n",
       "886       0.0     2.0  548.0  1.0  27.0    0.0    0.0   101.0  13.0000   \n",
       "887       1.0     1.0  303.0  0.0  19.0    0.0    0.0    14.0  30.0000   \n",
       "888       0.0     3.0  413.0  0.0  23.6    1.0    2.0   675.0  23.4500   \n",
       "889       1.0     1.0   81.0  1.0  26.0    0.0    0.0     8.0  30.0000   \n",
       "890       0.0     3.0  220.0  1.0  32.0    0.0    0.0   466.0   7.7500   \n",
       "\n",
       "     Embarked  \n",
       "0         2.0  \n",
       "1         0.0  \n",
       "2         2.0  \n",
       "3         2.0  \n",
       "4         2.0  \n",
       "..        ...  \n",
       "886       2.0  \n",
       "887       2.0  \n",
       "888       2.0  \n",
       "889       0.0  \n",
       "890       1.0  \n",
       "\n",
       "[891 rows x 10 columns]"
      ]
     },
     "execution_count": 17,
     "metadata": {},
     "output_type": "execute_result"
    }
   ],
   "source": [
    "df1"
   ]
  },
  {
   "cell_type": "code",
   "execution_count": 18,
   "id": "d4f13e4c-7a83-44ac-a5d5-c9fb39d29818",
   "metadata": {
    "tags": []
   },
   "outputs": [
    {
     "data": {
      "text/plain": [
       "<AxesSubplot: xlabel='Pclass', ylabel='Survived'>"
      ]
     },
     "execution_count": 18,
     "metadata": {},
     "output_type": "execute_result"
    },
    {
     "data": {
      "image/png": "[encoded data removed]",
      "text/plain": [
       "<Figure size 640x480 with 1 Axes>"
      ]
     },
     "metadata": {},
     "output_type": "display_data"
    }
   ],
   "source": [
    "sns.barplot(data=df1,x='Pclass',y='Survived',hue='Sex')"
   ]
  },
  {
   "cell_type": "markdown",
   "id": "8580d303-f4d0-48f2-926d-926f89b4135a",
   "metadata": {},
   "source": [
    "- from above graph we can say that almost 90 % women from 1st class and second class survived crash "
   ]
  },
  {
   "cell_type": "code",
   "execution_count": 19,
   "id": "590ca8d9-055e-4704-ae89-491b28d53448",
   "metadata": {
    "tags": []
   },
   "outputs": [
    {
     "data": {
      "text/plain": [
       "<AxesSubplot: xlabel='Name', ylabel='Survived'>"
      ]
     },
     "execution_count": 19,
     "metadata": {},
     "output_type": "execute_result"
    },
    {
     "data": {
      "image/png": "[encoded data removed]",
      "text/plain": [
       "<Figure size 640x480 with 1 Axes>"
      ]
     },
     "metadata": {},
     "output_type": "display_data"
    }
   ],
   "source": [
    "sns.scatterplot(data=df1,x='Name',y='Survived')"
   ]
  },
  {
   "cell_type": "markdown",
   "id": "50ed513d-0123-4b02-98c2-4986ef9ea4ab",
   "metadata": {
    "tags": []
   },
   "source": [
    "- we can observe that data is equally distributed"
   ]
  },
  {
   "cell_type": "code",
   "execution_count": 20,
   "id": "82e32b3b-1ff4-4b1c-a9a1-f08a0b1bae61",
   "metadata": {
    "tags": []
   },
   "outputs": [
    {
     "data": {
      "text/plain": [
       "<AxesSubplot: xlabel='Sex', ylabel='Survived'>"
      ]
     },
     "execution_count": 20,
     "metadata": {},
     "output_type": "execute_result"
    },
    {
     "data": {
      "image/png": "[encoded data removed]",
      "text/plain": [
       "<Figure size 640x480 with 1 Axes>"
      ]
     },
     "metadata": {},
     "output_type": "display_data"
    }
   ],
   "source": [
    "sns.barplot(data=df1,x='Sex',y='Survived')"
   ]
  },
  {
   "cell_type": "markdown",
   "id": "8394f43c-8161-4009-a4ec-4e7dbed7b296",
   "metadata": {},
   "source": [
    "- almost 75% women survived crash and only 20% men survived"
   ]
  },
  {
   "cell_type": "code",
   "execution_count": 21,
   "id": "d4fece4b-be9f-4ee3-ab43-ffda88d7ea90",
   "metadata": {
    "tags": []
   },
   "outputs": [
    {
     "data": {
      "text/plain": [
       "<AxesSubplot: xlabel='Age', ylabel='Survived'>"
      ]
     },
     "execution_count": 21,
     "metadata": {},
     "output_type": "execute_result"
    },
    {
     "data": {
      "image/png": "[encoded data removed]",
      "text/plain": [
       "<Figure size 640x480 with 1 Axes>"
      ]
     },
     "metadata": {},
     "output_type": "display_data"
    }
   ],
   "source": [
    "sns.scatterplot(data=df1,x='Age',y='Survived')"
   ]
  },
  {
   "cell_type": "markdown",
   "id": "fffd675d-9fa1-4c83-a0a5-ec7b59ff75e7",
   "metadata": {
    "tags": []
   },
   "source": [
    "- we can observe that data is equally distributed"
   ]
  },
  {
   "cell_type": "code",
   "execution_count": 22,
   "id": "ed3e4f78-af5f-4620-af57-ba80d0918fa1",
   "metadata": {
    "tags": []
   },
   "outputs": [
    {
     "data": {
      "text/plain": [
       "<AxesSubplot: xlabel='SibSp', ylabel='Survived'>"
      ]
     },
     "execution_count": 22,
     "metadata": {},
     "output_type": "execute_result"
    },
    {
     "data": {
      "image/png": "[encoded data removed]",
      "text/plain": [
       "<Figure size 640x480 with 1 Axes>"
      ]
     },
     "metadata": {},
     "output_type": "display_data"
    }
   ],
   "source": [
    "sns.barplot(data=df1,x='SibSp',y='Survived')"
   ]
  },
  {
   "cell_type": "markdown",
   "id": "340a172b-0611-41c0-a5f1-faea32f1987f",
   "metadata": {},
   "source": [
    "- none of the passengers having 5 or more number of siblings or spouse survived"
   ]
  },
  {
   "cell_type": "code",
   "execution_count": 23,
   "id": "7cdf8b18-bcd2-40da-b16d-79ff8a01a511",
   "metadata": {
    "tags": []
   },
   "outputs": [
    {
     "data": {
      "text/plain": [
       "<AxesSubplot: xlabel='Parch', ylabel='Survived'>"
      ]
     },
     "execution_count": 23,
     "metadata": {},
     "output_type": "execute_result"
    },
    {
     "data": {
      "image/png": "[encoded data removed]",
      "text/plain": [
       "<Figure size 640x480 with 1 Axes>"
      ]
     },
     "metadata": {},
     "output_type": "display_data"
    }
   ],
   "source": [
    "sns.barplot(data=df1,x='Parch',y='Survived')"
   ]
  },
  {
   "cell_type": "markdown",
   "id": "73671cda-801b-4cf0-b8d8-6ced2ef02202",
   "metadata": {},
   "source": [
    "- none of the passengers having 4 or 6  parents or children count survived "
   ]
  },
  {
   "cell_type": "code",
   "execution_count": 24,
   "id": "4b0c3a9b-4b3c-47a5-9b2a-7e718b949f46",
   "metadata": {
    "tags": []
   },
   "outputs": [
    {
     "data": {
      "text/plain": [
       "<AxesSubplot: xlabel='Ticket', ylabel='Survived'>"
      ]
     },
     "execution_count": 24,
     "metadata": {},
     "output_type": "execute_result"
    },
    {
     "data": {
      "image/png": "[encoded data removed]",
      "text/plain": [
       "<Figure size 640x480 with 1 Axes>"
      ]
     },
     "metadata": {},
     "output_type": "display_data"
    }
   ],
   "source": [
    "sns.scatterplot(data=df1,x='Ticket',y='Survived')"
   ]
  },
  {
   "cell_type": "markdown",
   "id": "4aa8b313-1531-4370-99b3-57e7176a0c2e",
   "metadata": {
    "tags": []
   },
   "source": [
    "- we can observe that data is equally distributed"
   ]
  },
  {
   "cell_type": "code",
   "execution_count": 25,
   "id": "80864aa8-289f-40fd-bc42-c57c2a6cdd61",
   "metadata": {
    "tags": []
   },
   "outputs": [
    {
     "data": {
      "text/plain": [
       "<AxesSubplot: xlabel='Fare', ylabel='Survived'>"
      ]
     },
     "execution_count": 25,
     "metadata": {},
     "output_type": "execute_result"
    },
    {
     "data": {
      "image/png": "[encoded data removed]",
      "text/plain": [
       "<Figure size 640x480 with 1 Axes>"
      ]
     },
     "metadata": {},
     "output_type": "display_data"
    }
   ],
   "source": [
    "sns.scatterplot(data=df1,x='Fare',y='Survived',hue='Pclass')"
   ]
  },
  {
   "cell_type": "markdown",
   "id": "4d7bec1b-0ed4-4491-9fc5-e6ff508bbd38",
   "metadata": {
    "tags": []
   },
   "source": [
    "- we can observe that 1st class passengers paid more fee as compared to others"
   ]
  },
  {
   "cell_type": "markdown",
   "id": "f5c1bc31-1cb8-4f4f-ae18-78d76c78df82",
   "metadata": {},
   "source": [
    "# Outlier Treatment"
   ]
  },
  {
   "cell_type": "code",
   "execution_count": 26,
   "id": "1a0caf45-9e19-452b-8624-acafb5f83766",
   "metadata": {
    "tags": []
   },
   "outputs": [
    {
     "data": {
      "image/png": "[encoded data removed]",
      "text/plain": [
       "<Figure size 500x500 with 2 Axes>"
      ]
     },
     "metadata": {},
     "output_type": "display_data"
    }
   ],
   "source": [
    "#checking outliers in continous data\n",
    "plt.figure(figsize=(5,5))\n",
    "sns.boxplot(y=df1['Fare'],ax=plt.subplot(1,2,1))\n",
    "sns.boxplot(y=df1['Age'],ax=plt.subplot(1,2,2))\n",
    "plt.tight_layout()"
   ]
  },
  {
   "cell_type": "markdown",
   "id": "312ee24d-fa37-4562-909b-94ea03d30361",
   "metadata": {},
   "source": [
    "- we can observe that there are many uotliers present which are needed to be removed\n"
   ]
  },
  {
   "cell_type": "code",
   "execution_count": 27,
   "id": "ede179cf-4e43-48ae-ae8a-732d1819ba4b",
   "metadata": {
    "tags": []
   },
   "outputs": [
    {
     "data": {
      "text/plain": [
       "Age      5\n",
       "Fare    20\n",
       "dtype: int64"
      ]
     },
     "execution_count": 27,
     "metadata": {},
     "output_type": "execute_result"
    }
   ],
   "source": [
    "# using z score method\n",
    "from scipy.stats import zscore\n",
    "z = np.abs(zscore(df1[['Age','Fare']]))\n",
    "z[z>3].count()"
   ]
  },
  {
   "cell_type": "markdown",
   "id": "e8217042-65a9-4f7e-b0f6-d109f021a710",
   "metadata": {},
   "source": [
    "- we can observe that there are 20 outliers present in fare column and 5 in age column"
   ]
  },
  {
   "cell_type": "code",
   "execution_count": 28,
   "id": "76fbe64c-b642-43fa-a4fc-f3d07fdd4ad9",
   "metadata": {
    "tags": []
   },
   "outputs": [
    {
     "data": {
      "text/plain": [
       "(866, 10)"
      ]
     },
     "execution_count": 28,
     "metadata": {},
     "output_type": "execute_result"
    }
   ],
   "source": [
    "x=df1\n",
    "x[['Age','Fare']]=df1[['Age','Fare']][z<3]\n",
    "\n",
    "x=x.dropna()\n",
    "x.shape"
   ]
  },
  {
   "cell_type": "code",
   "execution_count": 29,
   "id": "a445db98-cf56-4c5e-8eb9-5cbafae66e07",
   "metadata": {
    "tags": []
   },
   "outputs": [
    {
     "data": {
      "text/plain": [
       "(891, 10)"
      ]
     },
     "execution_count": 29,
     "metadata": {},
     "output_type": "execute_result"
    }
   ],
   "source": [
    "df1.shape"
   ]
  },
  {
   "cell_type": "code",
   "execution_count": 30,
   "id": "a3e998d6-5fb7-4c7e-b205-4510e7976b3f",
   "metadata": {
    "tags": []
   },
   "outputs": [],
   "source": [
    "y=x['Survived']\n",
    "x=x.drop(columns='Survived')"
   ]
  },
  {
   "cell_type": "code",
   "execution_count": 31,
   "id": "5de74672-28ef-4bb2-90ab-8bc83e9d9504",
   "metadata": {
    "tags": []
   },
   "outputs": [
    {
     "data": {
      "text/html": [
       "<div>\n",
       "<style scoped>\n",
       "    .dataframe tbody tr th:only-of-type {\n",
       "        vertical-align: middle;\n",
       "    }\n",
       "\n",
       "    .dataframe tbody tr th {\n",
       "        vertical-align: top;\n",
       "    }\n",
       "\n",
       "    .dataframe thead th {\n",
       "        text-align: right;\n",
       "    }\n",
       "</style>\n",
       "<table border=\"1\" class=\"dataframe\">\n",
       "  <thead>\n",
       "    <tr style=\"text-align: right;\">\n",
       "      <th></th>\n",
       "      <th>Pclass</th>\n",
       "      <th>Name</th>\n",
       "      <th>Sex</th>\n",
       "      <th>Age</th>\n",
       "      <th>SibSp</th>\n",
       "      <th>Parch</th>\n",
       "      <th>Ticket</th>\n",
       "      <th>Fare</th>\n",
       "      <th>Embarked</th>\n",
       "    </tr>\n",
       "  </thead>\n",
       "  <tbody>\n",
       "    <tr>\n",
       "      <th>0</th>\n",
       "      <td>3.0</td>\n",
       "      <td>108.0</td>\n",
       "      <td>1.0</td>\n",
       "      <td>22.0</td>\n",
       "      <td>1.0</td>\n",
       "      <td>0.0</td>\n",
       "      <td>523.0</td>\n",
       "      <td>7.2500</td>\n",
       "      <td>2.0</td>\n",
       "    </tr>\n",
       "    <tr>\n",
       "      <th>1</th>\n",
       "      <td>1.0</td>\n",
       "      <td>190.0</td>\n",
       "      <td>0.0</td>\n",
       "      <td>38.0</td>\n",
       "      <td>1.0</td>\n",
       "      <td>0.0</td>\n",
       "      <td>596.0</td>\n",
       "      <td>71.2833</td>\n",
       "      <td>0.0</td>\n",
       "    </tr>\n",
       "    <tr>\n",
       "      <th>2</th>\n",
       "      <td>3.0</td>\n",
       "      <td>353.0</td>\n",
       "      <td>0.0</td>\n",
       "      <td>26.0</td>\n",
       "      <td>0.0</td>\n",
       "      <td>0.0</td>\n",
       "      <td>669.0</td>\n",
       "      <td>7.9250</td>\n",
       "      <td>2.0</td>\n",
       "    </tr>\n",
       "    <tr>\n",
       "      <th>3</th>\n",
       "      <td>1.0</td>\n",
       "      <td>272.0</td>\n",
       "      <td>0.0</td>\n",
       "      <td>35.0</td>\n",
       "      <td>1.0</td>\n",
       "      <td>0.0</td>\n",
       "      <td>49.0</td>\n",
       "      <td>53.1000</td>\n",
       "      <td>2.0</td>\n",
       "    </tr>\n",
       "    <tr>\n",
       "      <th>4</th>\n",
       "      <td>3.0</td>\n",
       "      <td>15.0</td>\n",
       "      <td>1.0</td>\n",
       "      <td>35.0</td>\n",
       "      <td>0.0</td>\n",
       "      <td>0.0</td>\n",
       "      <td>472.0</td>\n",
       "      <td>8.0500</td>\n",
       "      <td>2.0</td>\n",
       "    </tr>\n",
       "    <tr>\n",
       "      <th>...</th>\n",
       "      <td>...</td>\n",
       "      <td>...</td>\n",
       "      <td>...</td>\n",
       "      <td>...</td>\n",
       "      <td>...</td>\n",
       "      <td>...</td>\n",
       "      <td>...</td>\n",
       "      <td>...</td>\n",
       "      <td>...</td>\n",
       "    </tr>\n",
       "    <tr>\n",
       "      <th>886</th>\n",
       "      <td>2.0</td>\n",
       "      <td>548.0</td>\n",
       "      <td>1.0</td>\n",
       "      <td>27.0</td>\n",
       "      <td>0.0</td>\n",
       "      <td>0.0</td>\n",
       "      <td>101.0</td>\n",
       "      <td>13.0000</td>\n",
       "      <td>2.0</td>\n",
       "    </tr>\n",
       "    <tr>\n",
       "      <th>887</th>\n",
       "      <td>1.0</td>\n",
       "      <td>303.0</td>\n",
       "      <td>0.0</td>\n",
       "      <td>19.0</td>\n",
       "      <td>0.0</td>\n",
       "      <td>0.0</td>\n",
       "      <td>14.0</td>\n",
       "      <td>30.0000</td>\n",
       "      <td>2.0</td>\n",
       "    </tr>\n",
       "    <tr>\n",
       "      <th>888</th>\n",
       "      <td>3.0</td>\n",
       "      <td>413.0</td>\n",
       "      <td>0.0</td>\n",
       "      <td>23.6</td>\n",
       "      <td>1.0</td>\n",
       "      <td>2.0</td>\n",
       "      <td>675.0</td>\n",
       "      <td>23.4500</td>\n",
       "      <td>2.0</td>\n",
       "    </tr>\n",
       "    <tr>\n",
       "      <th>889</th>\n",
       "      <td>1.0</td>\n",
       "      <td>81.0</td>\n",
       "      <td>1.0</td>\n",
       "      <td>26.0</td>\n",
       "      <td>0.0</td>\n",
       "      <td>0.0</td>\n",
       "      <td>8.0</td>\n",
       "      <td>30.0000</td>\n",
       "      <td>0.0</td>\n",
       "    </tr>\n",
       "    <tr>\n",
       "      <th>890</th>\n",
       "      <td>3.0</td>\n",
       "      <td>220.0</td>\n",
       "      <td>1.0</td>\n",
       "      <td>32.0</td>\n",
       "      <td>0.0</td>\n",
       "      <td>0.0</td>\n",
       "      <td>466.0</td>\n",
       "      <td>7.7500</td>\n",
       "      <td>1.0</td>\n",
       "    </tr>\n",
       "  </tbody>\n",
       "</table>\n",
       "<p>866 rows × 9 columns</p>\n",
       "</div>"
      ],
      "text/plain": [
       "     Pclass   Name  Sex   Age  SibSp  Parch  Ticket     Fare  Embarked\n",
       "0       3.0  108.0  1.0  22.0    1.0    0.0   523.0   7.2500       2.0\n",
       "1       1.0  190.0  0.0  38.0    1.0    0.0   596.0  71.2833       0.0\n",
       "2       3.0  353.0  0.0  26.0    0.0    0.0   669.0   7.9250       2.0\n",
       "3       1.0  272.0  0.0  35.0    1.0    0.0    49.0  53.1000       2.0\n",
       "4       3.0   15.0  1.0  35.0    0.0    0.0   472.0   8.0500       2.0\n",
       "..      ...    ...  ...   ...    ...    ...     ...      ...       ...\n",
       "886     2.0  548.0  1.0  27.0    0.0    0.0   101.0  13.0000       2.0\n",
       "887     1.0  303.0  0.0  19.0    0.0    0.0    14.0  30.0000       2.0\n",
       "888     3.0  413.0  0.0  23.6    1.0    2.0   675.0  23.4500       2.0\n",
       "889     1.0   81.0  1.0  26.0    0.0    0.0     8.0  30.0000       0.0\n",
       "890     3.0  220.0  1.0  32.0    0.0    0.0   466.0   7.7500       1.0\n",
       "\n",
       "[866 rows x 9 columns]"
      ]
     },
     "execution_count": 31,
     "metadata": {},
     "output_type": "execute_result"
    }
   ],
   "source": [
    "x"
   ]
  },
  {
   "cell_type": "code",
   "execution_count": 32,
   "id": "0b2f4a6d-75cb-44dd-afb0-b9f6e0110216",
   "metadata": {
    "tags": []
   },
   "outputs": [
    {
     "data": {
      "text/plain": [
       "0      0.0\n",
       "1      1.0\n",
       "2      1.0\n",
       "3      1.0\n",
       "4      0.0\n",
       "      ... \n",
       "886    0.0\n",
       "887    1.0\n",
       "888    0.0\n",
       "889    1.0\n",
       "890    0.0\n",
       "Name: Survived, Length: 866, dtype: float64"
      ]
     },
     "execution_count": 32,
     "metadata": {},
     "output_type": "execute_result"
    }
   ],
   "source": [
    "y"
   ]
  },
  {
   "cell_type": "markdown",
   "id": "cece5693-19ad-4aa6-a917-45cd551f6ae9",
   "metadata": {},
   "source": [
    "### Skeweness"
   ]
  },
  {
   "cell_type": "code",
   "execution_count": 33,
   "id": "24f29f88-176e-4dcb-ab7c-1dda2cdbc346",
   "metadata": {
    "tags": []
   },
   "outputs": [
    {
     "data": {
      "text/plain": [
       "Age     0.272664\n",
       "Fare    2.250123\n",
       "dtype: float64"
      ]
     },
     "execution_count": 33,
     "metadata": {},
     "output_type": "execute_result"
    }
   ],
   "source": [
    "x[['Age','Fare']].skew()"
   ]
  },
  {
   "cell_type": "code",
   "execution_count": 34,
   "id": "b656fb31-eae3-4f26-802f-84fc20ce4ac6",
   "metadata": {
    "tags": []
   },
   "outputs": [
    {
     "data": {
      "text/plain": [
       "Age     0.272664\n",
       "Fare    0.618089\n",
       "dtype: float64"
      ]
     },
     "execution_count": 34,
     "metadata": {},
     "output_type": "execute_result"
    }
   ],
   "source": [
    "# removing skeweness of fare using cube root method\n",
    "x['Fare']= np.cbrt(x['Fare'])\n",
    "x[['Age','Fare']].skew()"
   ]
  },
  {
   "cell_type": "markdown",
   "id": "67f20ece-29c1-4232-b299-d848190f623b",
   "metadata": {
    "tags": []
   },
   "source": [
    "- Now skeweness is significantly reduced and we can move on"
   ]
  },
  {
   "cell_type": "code",
   "execution_count": 35,
   "id": "1bd1c711-0cd2-4207-9b21-fbd8f392af4f",
   "metadata": {
    "tags": []
   },
   "outputs": [
    {
     "data": {
      "image/png": "[encoded data removed]",
      "text/plain": [
       "<Figure size 1000x1000 with 2 Axes>"
      ]
     },
     "metadata": {},
     "output_type": "display_data"
    }
   ],
   "source": [
    "plt.figure(figsize=(10,10))\n",
    "sns.heatmap(df.corr().abs(),annot=True)\n",
    "plt.tight_layout()"
   ]
  },
  {
   "cell_type": "markdown",
   "id": "ce71c402-8dd1-4db9-9ad0-a04df0851eaf",
   "metadata": {},
   "source": [
    "- We can observe that there is no multicolinearity\n",
    "- since there are less number of colums we can continue with standerdization"
   ]
  },
  {
   "cell_type": "markdown",
   "id": "102589db-5be8-41db-9247-b84094b8af31",
   "metadata": {},
   "source": [
    "### Standerd Scaler"
   ]
  },
  {
   "cell_type": "code",
   "execution_count": 36,
   "id": "14602c17-9cfc-4a9e-848e-b5388e0a1f34",
   "metadata": {
    "tags": []
   },
   "outputs": [
    {
     "data": {
      "text/plain": [
       "array([[ 0.80369745, -1.3270007 ,  0.731752  , ...,  0.9353586 ,\n",
       "        -0.80985748,  0.57251054],\n",
       "       [-1.6384148 , -1.0066569 , -1.36658321, ...,  1.30139593,\n",
       "         1.59421771, -2.004382  ],\n",
       "       [ 0.80369745, -0.36987592, -1.36658321, ...,  1.66743325,\n",
       "        -0.74647164,  0.57251054],\n",
       "       ...,\n",
       "       [ 0.80369745, -0.13547802, -1.36658321, ...,  1.69751851,\n",
       "         0.19799089,  0.57251054],\n",
       "       [-1.6384148 , -1.43247976,  0.731752  , ..., -1.64695953,\n",
       "         0.46433281, -2.004382  ],\n",
       "       [ 0.80369745, -0.88945795,  0.731752  , ...,  0.64954863,\n",
       "        -0.76254814, -0.71593573]])"
      ]
     },
     "execution_count": 36,
     "metadata": {},
     "output_type": "execute_result"
    }
   ],
   "source": [
    "from sklearn.preprocessing import StandardScaler\n",
    "scaler = StandardScaler()\n",
    "x_scaled = scaler.fit_transform(x)\n",
    "x_scaled"
   ]
  },
  {
   "cell_type": "code",
   "execution_count": 37,
   "id": "1a76cdb4-062d-46f1-8db7-9cc9665699d4",
   "metadata": {
    "tags": []
   },
   "outputs": [],
   "source": [
    "from sklearn.metrics import roc_curve,roc_auc_score,accuracy_score\n",
    "from sklearn.linear_model import LogisticRegression\n",
    "log_reg = LogisticRegression()"
   ]
  },
  {
   "cell_type": "code",
   "execution_count": 38,
   "id": "dc9f67ea-4469-484a-81ef-f54be2941ba1",
   "metadata": {
    "tags": []
   },
   "outputs": [],
   "source": [
    "# creating df for storing acuracy  score\n",
    "tts_df = pd.DataFrame(data=None,columns=['Random state','Train accuracy','Test accuracy'])"
   ]
  },
  {
   "cell_type": "code",
   "execution_count": 39,
   "id": "203f9444-57b8-4bf5-8c6d-3be9b4bb1d7d",
   "metadata": {
    "tags": []
   },
   "outputs": [
    {
     "data": {
      "text/html": [
       "<div>\n",
       "<style scoped>\n",
       "    .dataframe tbody tr th:only-of-type {\n",
       "        vertical-align: middle;\n",
       "    }\n",
       "\n",
       "    .dataframe tbody tr th {\n",
       "        vertical-align: top;\n",
       "    }\n",
       "\n",
       "    .dataframe thead th {\n",
       "        text-align: right;\n",
       "    }\n",
       "</style>\n",
       "<table border=\"1\" class=\"dataframe\">\n",
       "  <thead>\n",
       "    <tr style=\"text-align: right;\">\n",
       "      <th></th>\n",
       "      <th>Random state</th>\n",
       "      <th>Train accuracy</th>\n",
       "      <th>Test accuracy</th>\n",
       "    </tr>\n",
       "  </thead>\n",
       "  <tbody>\n",
       "    <tr>\n",
       "      <th>48</th>\n",
       "      <td>552.0</td>\n",
       "      <td>80.431433</td>\n",
       "      <td>79.723502</td>\n",
       "    </tr>\n",
       "    <tr>\n",
       "      <th>18</th>\n",
       "      <td>195.0</td>\n",
       "      <td>80.277350</td>\n",
       "      <td>80.184332</td>\n",
       "    </tr>\n",
       "    <tr>\n",
       "      <th>89</th>\n",
       "      <td>909.0</td>\n",
       "      <td>80.277350</td>\n",
       "      <td>80.184332</td>\n",
       "    </tr>\n",
       "    <tr>\n",
       "      <th>37</th>\n",
       "      <td>445.0</td>\n",
       "      <td>80.123267</td>\n",
       "      <td>79.723502</td>\n",
       "    </tr>\n",
       "    <tr>\n",
       "      <th>62</th>\n",
       "      <td>687.0</td>\n",
       "      <td>80.123267</td>\n",
       "      <td>80.184332</td>\n",
       "    </tr>\n",
       "    <tr>\n",
       "      <th>...</th>\n",
       "      <td>...</td>\n",
       "      <td>...</td>\n",
       "      <td>...</td>\n",
       "    </tr>\n",
       "    <tr>\n",
       "      <th>71</th>\n",
       "      <td>772.0</td>\n",
       "      <td>78.736518</td>\n",
       "      <td>78.801843</td>\n",
       "    </tr>\n",
       "    <tr>\n",
       "      <th>65</th>\n",
       "      <td>713.0</td>\n",
       "      <td>78.736518</td>\n",
       "      <td>79.262673</td>\n",
       "    </tr>\n",
       "    <tr>\n",
       "      <th>75</th>\n",
       "      <td>800.0</td>\n",
       "      <td>78.736518</td>\n",
       "      <td>78.801843</td>\n",
       "    </tr>\n",
       "    <tr>\n",
       "      <th>28</th>\n",
       "      <td>290.0</td>\n",
       "      <td>78.582435</td>\n",
       "      <td>79.262673</td>\n",
       "    </tr>\n",
       "    <tr>\n",
       "      <th>5</th>\n",
       "      <td>45.0</td>\n",
       "      <td>78.582435</td>\n",
       "      <td>79.262673</td>\n",
       "    </tr>\n",
       "  </tbody>\n",
       "</table>\n",
       "<p>102 rows × 3 columns</p>\n",
       "</div>"
      ],
      "text/plain": [
       "    Random state  Train accuracy  Test accuracy\n",
       "48         552.0       80.431433      79.723502\n",
       "18         195.0       80.277350      80.184332\n",
       "89         909.0       80.277350      80.184332\n",
       "37         445.0       80.123267      79.723502\n",
       "62         687.0       80.123267      80.184332\n",
       "..           ...             ...            ...\n",
       "71         772.0       78.736518      78.801843\n",
       "65         713.0       78.736518      79.262673\n",
       "75         800.0       78.736518      78.801843\n",
       "28         290.0       78.582435      79.262673\n",
       "5           45.0       78.582435      79.262673\n",
       "\n",
       "[102 rows x 3 columns]"
      ]
     },
     "execution_count": 39,
     "metadata": {},
     "output_type": "execute_result"
    }
   ],
   "source": [
    "# finding best random state\n",
    "for i in range(1,1000):\n",
    "    x_train,x_test,y_train,y_test = train_test_split(x,y,test_size=0.25,random_state=i)\n",
    "    log_reg.fit(x_train,y_train)\n",
    "    pred_train = log_reg.predict(x_train)\n",
    "    pred_test = log_reg.predict(x_test)\n",
    "    train_acc = accuracy_score(y_train,pred_train)\n",
    "    test_acc = accuracy_score(y_test,pred_test)\n",
    "    if round(train_acc*100,0) == round(test_acc*100,0):\n",
    "        tts_df =tts_df.append({'Random state':i,'Train accuracy':train_acc*100,'Test accuracy':test_acc*100},ignore_index=True)\n",
    "\n",
    "    \n",
    "tts_df.sort_values('Train accuracy',ascending=False)  \n",
    "\n",
    "    \n",
    "    "
   ]
  },
  {
   "cell_type": "markdown",
   "id": "8344151e-51c9-4893-9c26-2bf237843c27",
   "metadata": {
    "tags": []
   },
   "source": [
    "- we can observe that Random state 195 we get max accuracy wit minimum difference"
   ]
  },
  {
   "cell_type": "code",
   "execution_count": 40,
   "id": "5e8c863e-65df-434d-bc9f-cbb2bf5db993",
   "metadata": {
    "tags": []
   },
   "outputs": [],
   "source": [
    "x_train,x_test,y_train,y_test = train_test_split(x,y,test_size=0.25,random_state=195)"
   ]
  },
  {
   "cell_type": "code",
   "execution_count": 41,
   "id": "0ff00d80-4b23-4cb9-afe2-b78b112e20af",
   "metadata": {
    "tags": []
   },
   "outputs": [
    {
     "data": {
      "text/plain": [
       "0.0    405\n",
       "1.0    244\n",
       "Name: Survived, dtype: int64"
      ]
     },
     "execution_count": 41,
     "metadata": {},
     "output_type": "execute_result"
    }
   ],
   "source": [
    "y_train.value_counts()"
   ]
  },
  {
   "cell_type": "markdown",
   "id": "dc4669b8-de67-48fb-9c19-dd468d8fc073",
   "metadata": {},
   "source": [
    "### Resampling training data"
   ]
  },
  {
   "cell_type": "code",
   "execution_count": 42,
   "id": "057b08f7-2059-4eed-a342-74e87f381b73",
   "metadata": {
    "tags": []
   },
   "outputs": [
    {
     "data": {
      "text/plain": [
       "0.0    405\n",
       "1.0    324\n",
       "Name: Survived, dtype: int64"
      ]
     },
     "execution_count": 42,
     "metadata": {},
     "output_type": "execute_result"
    }
   ],
   "source": [
    "# using smote\n",
    "from imblearn.over_sampling import SMOTE\n",
    "ov_sm = SMOTE(sampling_strategy=0.80) # increasing data upto 80% \n",
    "x_train,y_train = ov_sm.fit_resample(x_train,y_train)\n",
    "y_train.value_counts()"
   ]
  },
  {
   "cell_type": "markdown",
   "id": "aeb03269-d605-4a16-ade6-7ee36bffc232",
   "metadata": {},
   "source": [
    "### Training the model"
   ]
  },
  {
   "cell_type": "markdown",
   "id": "ab8916a9-b1de-4d26-a739-edd22ce7f836",
   "metadata": {
    "tags": []
   },
   "source": [
    "Logistic regression "
   ]
  },
  {
   "cell_type": "code",
   "execution_count": 43,
   "id": "b1703ff5-3c41-4f23-97e2-a30cb8aa67f9",
   "metadata": {
    "tags": []
   },
   "outputs": [
    {
     "name": "stdout",
     "output_type": "stream",
     "text": [
      "0.7972350230414746\n"
     ]
    }
   ],
   "source": [
    "# Training\n",
    "lr = LogisticRegression()\n",
    "lr.fit(x_train,y_train)\n",
    "lr_test_pred=lr.predict(x_test)\n",
    "print (accuracy_score(y_test,lr_test_pred))"
   ]
  },
  {
   "cell_type": "code",
   "execution_count": 44,
   "id": "521c11a3-9e18-4fd3-91c4-f760b1640e57",
   "metadata": {
    "tags": []
   },
   "outputs": [
    {
     "name": "stdout",
     "output_type": "stream",
     "text": [
      "\n",
      "cv =  2 \n",
      "Cross Validation score =  77.82909930715935 \n",
      "Accuracy score 79.72350230414746\n",
      "\n",
      "\n",
      "cv =  3 \n",
      "Cross Validation score =  78.75336409073434 \n",
      "Accuracy score 79.72350230414746\n",
      "\n",
      "\n",
      "cv =  4 \n",
      "Cross Validation score =  79.21413637139445 \n",
      "Accuracy score 79.72350230414746\n",
      "\n",
      "\n",
      "cv =  5 \n",
      "Cross Validation score =  78.75224237592187 \n",
      "Accuracy score 79.72350230414746\n",
      "\n",
      "\n",
      "cv =  6 \n",
      "Cross Validation score =  78.6374521072797 \n",
      "Accuracy score 79.72350230414746\n",
      "\n",
      "\n",
      "cv =  7 \n",
      "Cross Validation score =  78.51991307931512 \n",
      "Accuracy score 79.72350230414746\n",
      "\n",
      "\n",
      "cv =  8 \n",
      "Cross Validation score =  78.63893136255523 \n",
      "Accuracy score 79.72350230414746\n",
      "\n",
      "\n",
      "cv =  9 \n",
      "Cross Validation score =  78.29085528827798 \n",
      "Accuracy score 79.72350230414746\n",
      "\n"
     ]
    }
   ],
   "source": [
    "# Find best cv\n",
    "from sklearn.model_selection import cross_val_score\n",
    "lr_ac_score = accuracy_score(y_test,lr_test_pred)*100\n",
    "for i in range(2,10):\n",
    "    lr_cv_score=cross_val_score(lr,x,y,cv=i)\n",
    "    lr_cv_score_mean = lr_cv_score.mean()\n",
    "    print('\\ncv = ',i,'\\nCross Validation score = ',lr_cv_score_mean*100,'\\nAccuracy score',lr_ac_score,end = '\\n\\n')\n",
    "    "
   ]
  },
  {
   "cell_type": "markdown",
   "id": "9890d686-2ca2-4fbb-ad0c-b22381dbb289",
   "metadata": {},
   "source": [
    "- cv = 4 is giving best result"
   ]
  },
  {
   "cell_type": "code",
   "execution_count": 45,
   "id": "8c358744-ee03-489b-af1f-6dc815ac11d1",
   "metadata": {
    "tags": []
   },
   "outputs": [],
   "source": [
    "# creating df for storing cv score and acc score\n",
    "ms_df = pd.DataFrame(data=None,columns=['Model','CV score','Test accuracy','Difference'])"
   ]
  },
  {
   "cell_type": "code",
   "execution_count": 46,
   "id": "9ef0af61-728f-4b66-8404-4c49d5459d94",
   "metadata": {
    "tags": []
   },
   "outputs": [
    {
     "name": "stdout",
     "output_type": "stream",
     "text": [
      "\n",
      "Cross Validation score =  79.21413637139445 \n",
      "Accuracy score =  79.72350230414746 \n",
      "Difference =  0.5093659327530133\n"
     ]
    }
   ],
   "source": [
    "lr_s_cv_score=cross_val_score(lr,x,y,cv=4)\n",
    "lr_s_cv_score_mean = lr_s_cv_score.mean()\n",
    "print('\\nCross Validation score = ',lr_s_cv_score_mean*100,'\\nAccuracy score = ',lr_ac_score,'\\nDifference = ',lr_ac_score-(lr_s_cv_score_mean*100))\n",
    "ms_df = ms_df.append({'Model':'Logistic regression','CV score':round(lr_s_cv_score_mean*100,2),'Test accuracy':round(lr_ac_score,2),'Difference':round(np.abs(lr_ac_score-(lr_s_cv_score_mean*100)),2)},ignore_index=True)"
   ]
  },
  {
   "cell_type": "markdown",
   "id": "abfe3a7f-5194-4d5c-8d64-e8487f1857c6",
   "metadata": {},
   "source": [
    "##### Random  forest classifer"
   ]
  },
  {
   "cell_type": "code",
   "execution_count": 47,
   "id": "d9c45a64-ca05-4d91-bf42-24485538d449",
   "metadata": {
    "tags": []
   },
   "outputs": [
    {
     "name": "stdout",
     "output_type": "stream",
     "text": [
      "82.48847926267281\n"
     ]
    }
   ],
   "source": [
    "from sklearn.ensemble import RandomForestClassifier\n",
    "rfc = RandomForestClassifier()\n",
    "rfc.fit(x_train,y_train)\n",
    "rfc_test_pred=rfc.predict(x_test)\n",
    "rfc_ac_score = accuracy_score(y_test,rfc_test_pred)*100\n",
    "print (rfc_ac_score)"
   ]
  },
  {
   "cell_type": "code",
   "execution_count": 48,
   "id": "b3dd82f9-aa5a-4e45-b19a-218f8e3395cc",
   "metadata": {
    "tags": []
   },
   "outputs": [
    {
     "name": "stdout",
     "output_type": "stream",
     "text": [
      "\n",
      "Cross Validation score =  83.02984724355693 \n",
      "Accuracy score =  82.48847926267281 \n",
      "Difference =  0.5413679808841181\n"
     ]
    }
   ],
   "source": [
    "# cross validation\n",
    "rfc_s_cv_score=cross_val_score(rfc,x,y,cv=4)\n",
    "rfc_s_cv_score_mean = rfc_s_cv_score.mean()\n",
    "print('\\nCross Validation score = ',rfc_s_cv_score_mean*100,'\\nAccuracy score = ',rfc_ac_score,'\\nDifference = ',(rfc_s_cv_score_mean*100)-rfc_ac_score)\n",
    "ms_df = ms_df.append({'Model':'Random forest classifier','CV score':round(rfc_s_cv_score_mean*100,2),'Test accuracy':round(rfc_ac_score,2),'Difference':round(np.abs(rfc_ac_score-(rfc_s_cv_score_mean*100)),2)},ignore_index=True)"
   ]
  },
  {
   "cell_type": "markdown",
   "id": "aa181653-5f3b-4686-95bd-2939f747ef34",
   "metadata": {},
   "source": [
    "##### AdaBoostClassifier"
   ]
  },
  {
   "cell_type": "code",
   "execution_count": 49,
   "id": "ccec31de-7884-4be0-bdef-fb7d264dfcb5",
   "metadata": {
    "tags": []
   },
   "outputs": [
    {
     "name": "stdout",
     "output_type": "stream",
     "text": [
      "78.80184331797236\n"
     ]
    }
   ],
   "source": [
    "from sklearn.ensemble import AdaBoostClassifier\n",
    "\n",
    "abc = AdaBoostClassifier()\n",
    "abc.fit(x_train,y_train)\n",
    "abc_test_pred=abc.predict(x_test)\n",
    "abc_ac_score = accuracy_score(y_test,abc_test_pred)*100\n",
    "print (abc_ac_score)"
   ]
  },
  {
   "cell_type": "code",
   "execution_count": 50,
   "id": "5b8eb82d-1fbd-42a9-9853-a574b7ad795d",
   "metadata": {
    "tags": []
   },
   "outputs": [
    {
     "name": "stdout",
     "output_type": "stream",
     "text": [
      "\n",
      "Cross Validation score =  81.52468424645843 \n",
      "Accuracy score =  78.80184331797236 \n",
      "Difference =  2.722840928486079\n"
     ]
    }
   ],
   "source": [
    "# cross validation\n",
    "abc_s_cv_score=cross_val_score(abc,x,y,cv=4)\n",
    "abc_s_cv_score_mean = abc_s_cv_score.mean()\n",
    "print('\\nCross Validation score = ',abc_s_cv_score_mean*100,'\\nAccuracy score = ',abc_ac_score,'\\nDifference = ',(abc_s_cv_score_mean*100)-abc_ac_score)\n",
    "ms_df = ms_df.append({'Model':'Adaboost classifier','CV score':round(abc_s_cv_score_mean*100,2),'Test accuracy':round(abc_ac_score,2),'Difference':round(np.abs(abc_ac_score-(abc_s_cv_score_mean*100)),2)},ignore_index=True)"
   ]
  },
  {
   "cell_type": "markdown",
   "id": "fe762825-db15-4169-9d35-d95bc7cd5016",
   "metadata": {},
   "source": [
    "##### GradientBoostingClassifier"
   ]
  },
  {
   "cell_type": "code",
   "execution_count": 51,
   "id": "9e688201-88f1-4132-a522-73b3bc99a413",
   "metadata": {
    "tags": []
   },
   "outputs": [
    {
     "name": "stdout",
     "output_type": "stream",
     "text": [
      "82.94930875576037\n"
     ]
    }
   ],
   "source": [
    "from sklearn.ensemble import GradientBoostingClassifier\n",
    "gbc = GradientBoostingClassifier()\n",
    "gbc.fit(x_train,y_train)\n",
    "gbc_test_pred=gbc.predict(x_test)\n",
    "gbc_ac_score = accuracy_score(y_test,gbc_test_pred)*100\n",
    "print (gbc_ac_score)"
   ]
  },
  {
   "cell_type": "code",
   "execution_count": 52,
   "id": "c21f2d81-af70-450c-8f7c-623c6e3323e4",
   "metadata": {
    "tags": []
   },
   "outputs": [
    {
     "name": "stdout",
     "output_type": "stream",
     "text": [
      "\n",
      "Cross Validation score =  82.10232121522444 \n",
      "Accuracy score =  82.94930875576037 \n",
      "Difference =  -0.8469875405359346\n"
     ]
    }
   ],
   "source": [
    "# cross validation\n",
    "gbc_s_cv_score=cross_val_score(gbc,x,y,cv=4)\n",
    "gbc_s_cv_score_mean = gbc_s_cv_score.mean()\n",
    "print('\\nCross Validation score = ',gbc_s_cv_score_mean*100,'\\nAccuracy score = ',gbc_ac_score,'\\nDifference = ',(gbc_s_cv_score_mean*100)-gbc_ac_score)\n",
    "ms_df = ms_df.append({'Model':'Gradient boosting classifier','CV score':round(gbc_s_cv_score_mean*100,2),'Test accuracy':round(gbc_ac_score,2),'Difference':round(np.abs(gbc_ac_score-(gbc_s_cv_score_mean*100)),2)},ignore_index=True)"
   ]
  },
  {
   "cell_type": "markdown",
   "id": "5b19cfbc-1e6c-42bd-b94e-dcd7b54821a4",
   "metadata": {},
   "source": [
    "##### XGBClassifier"
   ]
  },
  {
   "cell_type": "code",
   "execution_count": 53,
   "id": "fdc2d426-30b5-4916-9f9a-d60ddfe476db",
   "metadata": {
    "tags": []
   },
   "outputs": [
    {
     "name": "stdout",
     "output_type": "stream",
     "text": [
      "79.26267281105991\n"
     ]
    }
   ],
   "source": [
    "from xgboost import XGBClassifier\n",
    "xgb = XGBClassifier()\n",
    "xgb.fit(x_train,y_train)\n",
    "xgb_test_pred=xgb.predict(x_test)\n",
    "xgb_ac_score = accuracy_score(y_test,xgb_test_pred)*100\n",
    "print (xgb_ac_score)"
   ]
  },
  {
   "cell_type": "code",
   "execution_count": 54,
   "id": "daf177f1-8f15-42f8-80a8-813da484fa32",
   "metadata": {
    "tags": []
   },
   "outputs": [
    {
     "name": "stdout",
     "output_type": "stream",
     "text": [
      "\n",
      "Cross Validation score =  81.18386243386243 \n",
      "Accuracy score =  79.26267281105991 \n",
      "Difference =  1.9211896228025154\n"
     ]
    }
   ],
   "source": [
    "# cross validation\n",
    "xgb_s_cv_score=cross_val_score(xgb,x,y,cv=4)\n",
    "xgb_s_cv_score_mean = xgb_s_cv_score.mean()\n",
    "print('\\nCross Validation score = ',xgb_s_cv_score_mean*100,'\\nAccuracy score = ',xgb_ac_score,'\\nDifference = ',(xgb_s_cv_score_mean*100)-xgb_ac_score)\n",
    "ms_df = ms_df.append({'Model':'XGBOOST classifier','CV score':round(xgb_s_cv_score_mean*100,2),'Test accuracy':round(xgb_ac_score,2),'Difference':round(np.abs(xgb_ac_score-(xgb_s_cv_score_mean*100)),2)},ignore_index=True)"
   ]
  },
  {
   "cell_type": "markdown",
   "id": "73e63173-4d9b-4218-b8d1-beaf10135663",
   "metadata": {},
   "source": [
    "##### SVC"
   ]
  },
  {
   "cell_type": "code",
   "execution_count": 55,
   "id": "e7f997e1-df71-4a47-ae24-3d524061fb3d",
   "metadata": {
    "tags": []
   },
   "outputs": [
    {
     "name": "stdout",
     "output_type": "stream",
     "text": [
      "62.21198156682027\n"
     ]
    }
   ],
   "source": [
    "from sklearn.svm import SVC\n",
    "svc = SVC()\n",
    "svc.fit(x_train,y_train)\n",
    "svc_test_pred=svc.predict(x_test)\n",
    "svc_ac_score = accuracy_score(y_test,svc_test_pred)*100\n",
    "print (svc_ac_score)"
   ]
  },
  {
   "cell_type": "code",
   "execution_count": 56,
   "id": "154346b9-1791-40ef-a6da-5be0d9d1df6d",
   "metadata": {
    "tags": []
   },
   "outputs": [
    {
     "name": "stdout",
     "output_type": "stream",
     "text": [
      "\n",
      "Cross Validation score =  65.24417562724014 \n",
      "Accuracy score =  62.21198156682027 \n",
      "Difference =  3.0321940604198687\n"
     ]
    }
   ],
   "source": [
    "# cross validation\n",
    "svc_s_cv_score=cross_val_score(svc,x,y,cv=4)\n",
    "svc_s_cv_score_mean = svc_s_cv_score.mean()\n",
    "print('\\nCross Validation score = ',svc_s_cv_score_mean*100,'\\nAccuracy score = ',svc_ac_score,'\\nDifference = ',(svc_s_cv_score_mean*100)-svc_ac_score)\n",
    "ms_df = ms_df.append({'Model':'SVC','CV score':round(svc_s_cv_score_mean*100,2),'Test accuracy':round(svc_ac_score,2),'Difference':round(np.abs(svc_ac_score-(svc_s_cv_score_mean*100)),2)},ignore_index=True)"
   ]
  },
  {
   "cell_type": "markdown",
   "id": "de963c7e-a235-4df2-ac81-5511c121331b",
   "metadata": {},
   "source": [
    "##### KNN"
   ]
  },
  {
   "cell_type": "code",
   "execution_count": 57,
   "id": "e8c15c5b-48f4-4ba7-b45a-3458db332328",
   "metadata": {
    "tags": []
   },
   "outputs": [
    {
     "name": "stdout",
     "output_type": "stream",
     "text": [
      "62.21198156682027\n"
     ]
    }
   ],
   "source": [
    "from sklearn.neighbors import KNeighborsClassifier\n",
    "knn = KNeighborsClassifier()\n",
    "knn.fit(x_train,y_train)\n",
    "knn_test_pred=svc.predict(x_test)\n",
    "knn_ac_score = accuracy_score(y_test,svc_test_pred)*100\n",
    "print (knn_ac_score)"
   ]
  },
  {
   "cell_type": "code",
   "execution_count": 58,
   "id": "c7b67d5a-c39c-4ed3-be4b-abdb19614b15",
   "metadata": {
    "tags": []
   },
   "outputs": [
    {
     "name": "stdout",
     "output_type": "stream",
     "text": [
      "\n",
      "Cross Validation score =  64.31878306878306 \n",
      "Accuracy score =  62.21198156682027 \n",
      "Difference =  2.106801501962792\n"
     ]
    }
   ],
   "source": [
    "# cross validation\n",
    "knn_s_cv_score=cross_val_score(knn,x,y,cv=4)\n",
    "knn_s_cv_score_mean = knn_s_cv_score.mean()\n",
    "print('\\nCross Validation score = ',knn_s_cv_score_mean*100,'\\nAccuracy score = ',knn_ac_score,'\\nDifference = ',(knn_s_cv_score_mean*100)-knn_ac_score)\n",
    "ms_df = ms_df.append({'Model':'KNN Classifier','CV score':round(knn_s_cv_score_mean*100,2),'Test accuracy':round(knn_ac_score,2),'Difference':round(np.abs(knn_ac_score-(knn_s_cv_score_mean*100)),2)},ignore_index=True)"
   ]
  },
  {
   "cell_type": "code",
   "execution_count": 59,
   "id": "1a2addf5-df26-42fc-bfa3-2ec961382281",
   "metadata": {
    "tags": []
   },
   "outputs": [
    {
     "data": {
      "text/html": [
       "<div>\n",
       "<style scoped>\n",
       "    .dataframe tbody tr th:only-of-type {\n",
       "        vertical-align: middle;\n",
       "    }\n",
       "\n",
       "    .dataframe tbody tr th {\n",
       "        vertical-align: top;\n",
       "    }\n",
       "\n",
       "    .dataframe thead th {\n",
       "        text-align: right;\n",
       "    }\n",
       "</style>\n",
       "<table border=\"1\" class=\"dataframe\">\n",
       "  <thead>\n",
       "    <tr style=\"text-align: right;\">\n",
       "      <th></th>\n",
       "      <th>Model</th>\n",
       "      <th>CV score</th>\n",
       "      <th>Test accuracy</th>\n",
       "      <th>Difference</th>\n",
       "    </tr>\n",
       "  </thead>\n",
       "  <tbody>\n",
       "    <tr>\n",
       "      <th>3</th>\n",
       "      <td>Gradient boosting classifier</td>\n",
       "      <td>82.10</td>\n",
       "      <td>82.95</td>\n",
       "      <td>0.85</td>\n",
       "    </tr>\n",
       "    <tr>\n",
       "      <th>1</th>\n",
       "      <td>Random forest classifier</td>\n",
       "      <td>83.03</td>\n",
       "      <td>82.49</td>\n",
       "      <td>0.54</td>\n",
       "    </tr>\n",
       "    <tr>\n",
       "      <th>0</th>\n",
       "      <td>Logistic regression</td>\n",
       "      <td>79.21</td>\n",
       "      <td>79.72</td>\n",
       "      <td>0.51</td>\n",
       "    </tr>\n",
       "    <tr>\n",
       "      <th>4</th>\n",
       "      <td>XGBOOST classifier</td>\n",
       "      <td>81.18</td>\n",
       "      <td>79.26</td>\n",
       "      <td>1.92</td>\n",
       "    </tr>\n",
       "    <tr>\n",
       "      <th>2</th>\n",
       "      <td>Adaboost classifier</td>\n",
       "      <td>81.52</td>\n",
       "      <td>78.80</td>\n",
       "      <td>2.72</td>\n",
       "    </tr>\n",
       "    <tr>\n",
       "      <th>5</th>\n",
       "      <td>SVC</td>\n",
       "      <td>65.24</td>\n",
       "      <td>62.21</td>\n",
       "      <td>3.03</td>\n",
       "    </tr>\n",
       "    <tr>\n",
       "      <th>6</th>\n",
       "      <td>KNN Classifier</td>\n",
       "      <td>64.32</td>\n",
       "      <td>62.21</td>\n",
       "      <td>2.11</td>\n",
       "    </tr>\n",
       "  </tbody>\n",
       "</table>\n",
       "</div>"
      ],
      "text/plain": [
       "                          Model  CV score  Test accuracy  Difference\n",
       "3  Gradient boosting classifier     82.10          82.95        0.85\n",
       "1      Random forest classifier     83.03          82.49        0.54\n",
       "0           Logistic regression     79.21          79.72        0.51\n",
       "4            XGBOOST classifier     81.18          79.26        1.92\n",
       "2           Adaboost classifier     81.52          78.80        2.72\n",
       "5                           SVC     65.24          62.21        3.03\n",
       "6                KNN Classifier     64.32          62.21        2.11"
      ]
     },
     "execution_count": 59,
     "metadata": {},
     "output_type": "execute_result"
    }
   ],
   "source": [
    "ms_df.sort_values('Test accuracy',ascending=False)"
   ]
  },
  {
   "cell_type": "markdown",
   "id": "6794ce2e-07aa-49a4-9906-4bc8d3f63e60",
   "metadata": {},
   "source": [
    "- we can observe that Random forest classifier is giving good accuracy with less over fitting"
   ]
  },
  {
   "cell_type": "markdown",
   "id": "7d2badf2-d7f3-4e50-8b39-3a506e20573d",
   "metadata": {},
   "source": [
    "### Hyperparameter Tuning"
   ]
  },
  {
   "cell_type": "code",
   "execution_count": 60,
   "id": "f4b6f347-b5df-4f7f-be35-324d391aeb1c",
   "metadata": {
    "tags": []
   },
   "outputs": [],
   "source": [
    "from sklearn.model_selection import RandomizedSearchCV\n",
    "param_grid = {\n",
    "    'n_estimators': [50,75,100,125,150, 200, 300], \n",
    "    'max_depth': [2,3,5,7, 10, 15], \n",
    "    'min_samples_split': [1,2,3, 5,7, 10], \n",
    "    'criterion' : [\"gini\", \"entropy\"]\n",
    "    \n",
    "}"
   ]
  },
  {
   "cell_type": "code",
   "execution_count": 64,
   "id": "d07a5b00-30f1-42af-842a-a400c7893e11",
   "metadata": {
    "tags": []
   },
   "outputs": [
    {
     "name": "stdout",
     "output_type": "stream",
     "text": [
      "Best parameters: {'n_estimators': 200, 'min_samples_split': 7, 'max_depth': 15, 'criterion': 'gini'}\n",
      "Best score: 0.8478223901747757\n"
     ]
    }
   ],
   "source": [
    "# Perform randomized search\n",
    "random_search = RandomizedSearchCV(estimator=RandomForestClassifier(), param_distributions=param_grid, cv=5)\n",
    "random_search.fit(x_train, y_train)\n",
    "\n",
    "# Print the best parameters and score\n",
    "print(\"Best parameters:\", random_search.best_params_)\n",
    "print(\"Best score:\", random_search.best_score_)"
   ]
  },
  {
   "cell_type": "code",
   "execution_count": 66,
   "id": "d25e3bb2-a042-47db-bbee-92543f85d0ec",
   "metadata": {
    "tags": []
   },
   "outputs": [
    {
     "name": "stdout",
     "output_type": "stream",
     "text": [
      "83.41013824884793\n"
     ]
    }
   ],
   "source": [
    "final_model = RandomForestClassifier(min_samples_split=7,max_depth= 15,n_estimators= 200,criterion='gini')\n",
    "final_model.fit(x_train,y_train)\n",
    "final_model_test_pred=final_model.predict(x_test)\n",
    "final_model_ac_score = accuracy_score(y_test,final_model_test_pred)*100\n",
    "print (final_model_ac_score)"
   ]
  },
  {
   "cell_type": "code",
   "execution_count": 67,
   "id": "2cf5420d-e8c4-44ee-9aac-f98d73ff4622",
   "metadata": {
    "tags": []
   },
   "outputs": [
    {
     "name": "stdout",
     "output_type": "stream",
     "text": [
      "              precision    recall  f1-score   support\n",
      "\n",
      "         0.0       0.85      0.90      0.87       134\n",
      "         1.0       0.81      0.73      0.77        83\n",
      "\n",
      "    accuracy                           0.83       217\n",
      "   macro avg       0.83      0.82      0.82       217\n",
      "weighted avg       0.83      0.83      0.83       217\n",
      "\n"
     ]
    }
   ],
   "source": [
    "from sklearn.metrics import classification_report\n",
    "print(classification_report(y_test,final_model_test_pred))\n"
   ]
  },
  {
   "cell_type": "code",
   "execution_count": 68,
   "id": "7e083815-688c-402b-bac6-1bd8f5e21022",
   "metadata": {
    "tags": []
   },
   "outputs": [],
   "source": [
    "fpr,tpr,threshold = roc_curve(y_test,final_model_test_pred)"
   ]
  },
  {
   "cell_type": "code",
   "execution_count": 69,
   "id": "0b1c960e-d4d7-44c8-aed2-d08a74b06fdd",
   "metadata": {
    "tags": []
   },
   "outputs": [
    {
     "name": "stdout",
     "output_type": "stream",
     "text": [
      "fpr =  [0.         0.10447761 1.        ] \n",
      "tpr =  [0.         0.73493976 1.        ] \n",
      "threshold =  [2. 1. 0.]\n"
     ]
    }
   ],
   "source": [
    "print(\"fpr = \",fpr,'\\ntpr = ',tpr,'\\nthreshold = ',threshold)"
   ]
  },
  {
   "cell_type": "code",
   "execution_count": 70,
   "id": "bf2417fa-9ff2-4e98-a519-db643426c87e",
   "metadata": {
    "tags": []
   },
   "outputs": [
    {
     "data": {
      "image/png": "[encoded data removed]",
      "text/plain": [
       "<Figure size 640x480 with 1 Axes>"
      ]
     },
     "metadata": {},
     "output_type": "display_data"
    }
   ],
   "source": [
    "plt.plot(fpr,tpr,color='orange',label = 'Roc') # x axis , y axis ,clr, lable\n",
    "plt.plot([0,1],[0,1],color='darkblue',linestyle='-.',label = \"Diagnol\")\n",
    "plt.xlabel(\"False positive Rate\")\n",
    "plt.ylabel(\"True positive Rate\")\n",
    "plt.title('Roc curve Final model')\n",
    "plt.legend()\n",
    "plt.show()"
   ]
  },
  {
   "cell_type": "code",
   "execution_count": 71,
   "id": "ddc3b873-4353-47ba-8ada-1ce585118b4f",
   "metadata": {
    "tags": []
   },
   "outputs": [
    {
     "data": {
      "image/png": "[encoded data removed]",
      "text/plain": [
       "<Figure size 640x480 with 1 Axes>"
      ]
     },
     "metadata": {},
     "output_type": "display_data"
    }
   ],
   "source": [
    "fpr1,tpr1,threshold = roc_curve(y_test,final_model_test_pred)\n",
    "fpr2,tpr2,threshold = roc_curve(y_test,svc_test_pred)\n",
    "fpr3,tpr3,threshold = roc_curve(y_test,xgb_test_pred)\n",
    "fpr4,tpr4,threshold = roc_curve(y_test,gbc_test_pred)\n",
    "fpr5,tpr5,threshold = roc_curve(y_test,abc_test_pred)\n",
    "fpr6,tpr6,threshold = roc_curve(y_test,rfc_test_pred)\n",
    "fpr7,tpr7,threshold = roc_curve(y_test,lr_test_pred)\n",
    "fpr8,tpr8,threshold = roc_curve(y_test,knn_test_pred)\n",
    "\n",
    "\n",
    "plt.plot(fpr2,tpr2,color='green',label = 'SVC') # x axis , y axis ,clr, lable\n",
    "plt.plot(fpr3,tpr3,color='orange',label = 'Xgboost')\n",
    "plt.plot(fpr4,tpr4,color='cyan',label = 'GradientBoostingClassifier') \n",
    "plt.plot(fpr5,tpr5,color='yellow',label = 'ADA Boost') \n",
    "plt.plot(fpr6,tpr6,color='black',label = 'Random forest') \n",
    "plt.plot(fpr7,tpr7,color='magenta',label = 'logistic regression') \n",
    "plt.plot(fpr1,tpr1,color='red',label = 'Final model')\n",
    "plt.plot(fpr8,tpr8,color='green',label = 'Knn')\n",
    "plt.plot([0,1],[0,1],color='darkblue',linestyle='-.',label = \"Diagnol\")\n",
    "plt.xlabel(\"False positive Rate\")\n",
    "plt.ylabel(\"True positive Rate\")\n",
    "plt.title('Roc curve all models')\n",
    "plt.legend()\n",
    "plt.show()"
   ]
  },
  {
   "cell_type": "markdown",
   "id": "48dd243f-88d6-4282-a3b3-84460a1c1dae",
   "metadata": {},
   "source": [
    "#### Saving Model"
   ]
  },
  {
   "cell_type": "code",
   "execution_count": 72,
   "id": "e9d43c3f-440c-4fb5-8a54-d9f058406cc6",
   "metadata": {
    "tags": []
   },
   "outputs": [],
   "source": [
    "import pickle\n",
    "with open('final_Random_forest_classifier_model.pkl', 'wb') as file:\n",
    "    pickle.dump(final_model, file)"
   ]
  },
  {
   "cell_type": "markdown",
   "id": "e805e7f0-b8fc-4d0d-a33b-4e9d224278f3",
   "metadata": {},
   "source": [
    "##### 1. For this problem eventhough from roc curve graph we can see that our Final model(Red colored) has more area under the curve therefore it is the best  model"
   ]
  },
  {
   "cell_type": "markdown",
   "id": "5d920bcd-c24d-430e-ad3f-defa45cf2b0a",
   "metadata": {},
   "source": [
    "# Testing with arbitrary passenger"
   ]
  },
  {
   "cell_type": "code",
   "execution_count": 73,
   "id": "2080d3a6-beac-4a75-aec1-609e81effdfe",
   "metadata": {
    "tags": []
   },
   "outputs": [],
   "source": [
    "a=df.loc[889]"
   ]
  },
  {
   "cell_type": "code",
   "execution_count": 74,
   "id": "ba06baa1-f811-41ea-ba6c-e6d0b457abe9",
   "metadata": {
    "tags": []
   },
   "outputs": [
    {
     "data": {
      "text/plain": [
       "Survived     1.0\n",
       "Pclass       1.0\n",
       "Name        81.0\n",
       "Sex          1.0\n",
       "Age         26.0\n",
       "SibSp        0.0\n",
       "Parch        0.0\n",
       "Ticket       8.0\n",
       "Fare        30.0\n",
       "Embarked     0.0\n",
       "Name: 889, dtype: float64"
      ]
     },
     "execution_count": 74,
     "metadata": {},
     "output_type": "execute_result"
    }
   ],
   "source": [
    "a"
   ]
  },
  {
   "cell_type": "code",
   "execution_count": 75,
   "id": "4e3eaddc-09f5-42d9-a796-43b0144a0b12",
   "metadata": {
    "tags": []
   },
   "outputs": [
    {
     "data": {
      "text/plain": [
       "[1.0, 1.0, 81.0, 1.0, 26.0, 0.0, 0.0, 8.0, 30.0, 0.0]"
      ]
     },
     "execution_count": 75,
     "metadata": {},
     "output_type": "execute_result"
    }
   ],
   "source": [
    "a.tolist()"
   ]
  },
  {
   "cell_type": "code",
   "execution_count": 76,
   "id": "1296e244-daf3-432a-a38d-8fa400e8785f",
   "metadata": {
    "tags": []
   },
   "outputs": [
    {
     "data": {
      "text/plain": [
       "array([[-1.6384148 , -1.43247976,  0.731752  , -0.26848781, -0.47203191,\n",
       "        -0.4641273 , -1.64695953, 29.70709899, -2.004382  ]])"
      ]
     },
     "execution_count": 76,
     "metadata": {},
     "output_type": "execute_result"
    }
   ],
   "source": [
    "ab_value = np.array([[1.0, 81.0, 1.0, 26.0, 0.0, 0.0, 8.0, 30.0, 0.0]])\n",
    "scaler.transform(ab_value)"
   ]
  },
  {
   "cell_type": "code",
   "execution_count": 77,
   "id": "add6a444-796b-4724-ade7-ead27f3f590d",
   "metadata": {
    "tags": []
   },
   "outputs": [
    {
     "data": {
      "text/plain": [
       "array([1.])"
      ]
     },
     "execution_count": 77,
     "metadata": {},
     "output_type": "execute_result"
    }
   ],
   "source": [
    "final_model.predict(ab_value)"
   ]
  },
  {
   "cell_type": "markdown",
   "id": "e8896979-1f80-4ca6-89db-942cf7188aeb",
   "metadata": {},
   "source": [
    "- our model predicted this correctly"
   ]
  },
  {
   "cell_type": "code",
   "execution_count": null,
   "id": "6e926150-ffed-45ab-8773-c68003f9a5a1",
   "metadata": {},
   "outputs": [],
   "source": []
  }
 ],
 "metadata": {
  "kernelspec": {
   "display_name": "Python 3 (ipykernel)",
   "language": "python",
   "name": "python3"
  },
  "language_info": {
   "codemirror_mode": {
    "name": "ipython",
    "version": 3
   },
   "file_extension": ".py",
   "mimetype": "text/x-python",
   "name": "python",
   "nbconvert_exporter": "python",
   "pygments_lexer": "ipython3",
   "version": "3.9.12"
  },
  "widgets": {
   "application/vnd.jupyter.widget-state+json": {
    "state": {},
    "version_major": 2,
    "version_minor": 0
   }
  }
 },
 "nbformat": 4,
 "nbformat_minor": 5
}
